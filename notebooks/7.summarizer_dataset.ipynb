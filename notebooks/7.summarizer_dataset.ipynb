{
 "cells": [
  {
   "cell_type": "code",
   "execution_count": null,
   "metadata": {},
   "outputs": [],
   "source": [
    "%load_ext autoreload\n",
    "%autoreload 2"
   ]
  },
  {
   "cell_type": "code",
   "execution_count": 28,
   "metadata": {},
   "outputs": [],
   "source": [
    "import time\n",
    "import logging\n",
    "from typing import List, Dict, Any\n",
    "\n",
    "from news_summarizer.utils import batch\n",
    "from transformers import pipeline\n",
    "from news_summarizer.domain.clean_documents import CleanedArticle\n",
    "from transformers import AutoModelForCausalLM, AutoTokenizer\n",
    "from news_summarizer.domain.prompt import GenerateDatasetSamplesPrompt\n",
    "from news_summarizer.datasets.generation import SummarizationDatasetGenerator\n",
    "\n",
    "logger = logging.getLogger()\n",
    "logger.setLevel(logging.INFO)\n"
   ]
  },
  {
   "cell_type": "code",
   "execution_count": null,
   "metadata": {},
   "outputs": [],
   "source": [
    "model_name = \"Qwen/Qwen2.5-1.5B-Instruct-AWQ\"\n",
    "model = AutoModelForCausalLM.from_pretrained(\n",
    "    model_name,\n",
    "    torch_dtype=\"auto\",\n",
    "    device_map=\"auto\"\n",
    ")\n",
    "tokenizer = AutoTokenizer.from_pretrained(model_name)"
   ]
  },
  {
   "cell_type": "code",
   "execution_count": 30,
   "metadata": {},
   "outputs": [],
   "source": [
    "system_prompt_template = \"\"\"Você é um assistente especializado em resumir notícias\n",
    "\"\"\"\n",
    "\n",
    "\n",
    "summarization_prompt_template = \"\"\"Resuma essa noticia. Para isso você deve: Ler toda a notícia. \\\n",
    "Determinar o tema central da notícia e as informações mais relevantes que o autor deseja transmitir. \\\n",
    "Focar nos fatos e dados mais importantes, deixando de lado detalhes secundários ou exemplos específicos. \\\n",
    "Evitar adicionar opiniões pessoais ou interpretações. O resumo deve refletir fielmente o conteúdo original. \\\n",
    "Escrever de forma direta e simples, evitando jargões ou termos técnicos desnecessários. \\\n",
    "Manter a ordem lógica das informações apresentadas no artigo original, garantindo que o resumo seja coeso e fácil de entender. \\ \n",
    "Certificar-se de que todas as informações incluídas no resumo estão corretas e correspondem ao conteúdo do artigo. \\\n",
    "\n",
    "Você deve responder utilizando a mesma lingua da notícia. \\\n",
    "Cada resposta deve conter apenas o resumo, sem palavras chave como 'Resumo:', não deve possuir multiplos espaços entre os parágrafos.\n",
    "Noticia\n",
    "{article}\"\"\""
   ]
  },
  {
   "cell_type": "code",
   "execution_count": 31,
   "metadata": {},
   "outputs": [],
   "source": [
    "def fetch_all_documents():\n",
    "    offset = None\n",
    "    my_documents = []\n",
    "\n",
    "    while True:\n",
    "        documents, offset = CleanedArticle.bulk_find(**{}, offset=offset)\n",
    "        my_documents.extend(documents)\n",
    "\n",
    "        if offset is None:\n",
    "            break\n",
    "\n",
    "    return my_documents\n",
    "\n",
    "def get_prompt(document: CleanedArticle) -> GenerateDatasetSamplesPrompt:\n",
    "    input_variables = {'article': document.content}\n",
    "    prompt = summarization_prompt_template.format(**input_variables)\n",
    "    prompt_tokens = tokenizer.encode(prompt)\n",
    "    num_tokens = len(prompt_tokens)\n",
    "\n",
    "    generated_dataset_sample = GenerateDatasetSamplesPrompt(\n",
    "        template=summarization_prompt_template,\n",
    "        input_variables=input_variables,\n",
    "        content=prompt,\n",
    "        num_tokens=num_tokens,\n",
    "        data_category='summariation_dataset',\n",
    "        document=document,\n",
    "    )\n",
    "\n",
    "    return generated_dataset_sample\n",
    "\n",
    "def get_prompts(documents: list[CleanedArticle]) -> list[GenerateDatasetSamplesPrompt]:\n",
    "    return [get_prompt(document) for document in documents]"
   ]
  },
  {
   "cell_type": "code",
   "execution_count": null,
   "metadata": {},
   "outputs": [],
   "source": [
    "documents = fetch_all_documents()\n",
    "prompts = get_prompts(documents)"
   ]
  },
  {
   "cell_type": "code",
   "execution_count": null,
   "metadata": {},
   "outputs": [],
   "source": [
    "generator = SummarizationDatasetGenerator()\n",
    "generator.generate(prompts)"
   ]
  }
 ],
 "metadata": {
  "kernelspec": {
   "display_name": "news_summarizer",
   "language": "python",
   "name": "python3"
  },
  "language_info": {
   "codemirror_mode": {
    "name": "ipython",
    "version": 3
   },
   "file_extension": ".py",
   "mimetype": "text/x-python",
   "name": "python",
   "nbconvert_exporter": "python",
   "pygments_lexer": "ipython3",
   "version": "3.11.8"
  }
 },
 "nbformat": 4,
 "nbformat_minor": 2
}
