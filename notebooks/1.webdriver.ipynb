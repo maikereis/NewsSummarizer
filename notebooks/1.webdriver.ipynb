{
 "cells": [
  {
   "cell_type": "code",
   "execution_count": 7,
   "metadata": {},
   "outputs": [
    {
     "name": "stdout",
     "output_type": "stream",
     "text": [
      "The autoreload extension is already loaded. To reload it, use:\n",
      "  %reload_ext autoreload\n"
     ]
    }
   ],
   "source": [
    "%load_ext autoreload\n",
    "%autoreload 2"
   ]
  },
  {
   "cell_type": "code",
   "execution_count": 8,
   "metadata": {},
   "outputs": [],
   "source": [
    "import shutil\n",
    "import chromedriver_autoinstaller\n",
    "import edgedriver_autoinstaller\n",
    "from selenium import webdriver\n",
    "from tempfile import mkdtemp\n",
    "from abc import ABC, abstractmethod\n"
   ]
  },
  {
   "cell_type": "code",
   "execution_count": 9,
   "metadata": {},
   "outputs": [],
   "source": [
    "class BrowserLocator(ABC):\n",
    "    @abstractmethod\n",
    "    def find_browser(self, browser_name: str) -> str:\n",
    "        pass\n",
    "\n",
    "class WebDriverCreator(ABC):\n",
    "    @abstractmethod\n",
    "    def create_webdriver(self):\n",
    "        pass\n",
    "\n",
    "class ShutilBrowserLocator(BrowserLocator):\n",
    "    def find_browser(self, browser_name: str) -> str:\n",
    "        return shutil.which(browser_name)\n",
    "\n",
    "class ChromeWebDriverCreator(WebDriverCreator):\n",
    "    def create_webdriver(self):\n",
    "        print(\"Chrome is installed. Installing and using chromedriver...\")\n",
    "        chromedriver_autoinstaller.install()\n",
    "        options = webdriver.ChromeOptions()\n",
    "        self._set_common_options(options)\n",
    "        return webdriver.Chrome(options=options)\n",
    "    \n",
    "    def _set_common_options(self, options):\n",
    "        options.add_argument(\"--no-sandbox\")\n",
    "        options.add_argument(\"--headless=new\")\n",
    "        options.add_argument(\"--disable-dev-shm-usage\")\n",
    "        options.add_argument(\"--log-level=3\")\n",
    "        options.add_argument(\"--disable-popup-blocking\")\n",
    "        options.add_argument(\"--disable-notifications\")\n",
    "        options.add_argument(\"--disable-extensions\")\n",
    "        options.add_argument(\"--disable-background-networking\")\n",
    "        options.add_argument(\"--ignore-certificate-errors\")\n",
    "        options.add_argument(f\"--user-data-dir={mkdtemp()}\")\n",
    "        options.add_argument(f\"--data-path={mkdtemp()}\")\n",
    "        options.add_argument(f\"--disk-cache-dir={mkdtemp()}\")\n",
    "        options.add_argument(\"--remote-debugging-port=9226\")\n",
    "\n",
    "class EdgeWebDriverCreator(WebDriverCreator):\n",
    "    def create_webdriver(self):\n",
    "        print(\"Edge is installed. Installing and using edgedriver...\")\n",
    "        edgedriver_autoinstaller.install()\n",
    "        options = webdriver.EdgeOptions()\n",
    "        self._set_common_options(options)\n",
    "        return webdriver.Edge(options=options)\n",
    "    \n",
    "    def _set_common_options(self, options):\n",
    "        options.add_argument(\"--no-sandbox\")\n",
    "        options.add_argument(\"--headless=new\")\n",
    "        options.add_argument(\"--disable-dev-shm-usage\")\n",
    "        options.add_argument(\"--log-level=3\")\n",
    "        options.add_argument(\"--disable-popup-blocking\")\n",
    "        options.add_argument(\"--disable-notifications\")\n",
    "        options.add_argument(\"--disable-extensions\")\n",
    "        options.add_argument(\"--disable-background-networking\")\n",
    "        options.add_argument(\"--ignore-certificate-errors\")\n",
    "        options.add_argument(f\"--user-data-dir={mkdtemp()}\")\n",
    "        options.add_argument(f\"--data-path={mkdtemp()}\")\n",
    "        options.add_argument(f\"--disk-cache-dir={mkdtemp()}\")\n",
    "        options.add_argument(\"--remote-debugging-port=9226\")\n",
    "    \n",
    "class WebDriverFactory:\n",
    "    def __init__(self, browser_locator: BrowserLocator):\n",
    "        self.browser_locator = browser_locator\n",
    "        \n",
    "    def get_webdriver(self):\n",
    "        chrome_path = self.browser_locator.find_browser(\"google-chrome\")\n",
    "        edge_path = self.browser_locator.find_browser(\"microsoft-edge-stable\")\n",
    "\n",
    "        if edge_path:\n",
    "            creator = ChromeWebDriverCreator()\n",
    "        elif chrome_path:\n",
    "            creator = EdgeWebDriverCreator()\n",
    "        else:\n",
    "            raise Exception(\"Neither Chrome nor Edge is installed. Please install one of them.\")\n",
    "\n",
    "        return creator.create_webdriver()"
   ]
  },
  {
   "cell_type": "code",
   "execution_count": 10,
   "metadata": {},
   "outputs": [
    {
     "name": "stdout",
     "output_type": "stream",
     "text": [
      "Chrome is installed. Installing and using chromedriver...\n",
      "g1 - O portal de notícias da Globo\n"
     ]
    }
   ],
   "source": [
    "# Example usage\n",
    "factory =  WebDriverFactory(ShutilBrowserLocator())\n",
    "driver = factory.get_webdriver()\n",
    "driver.get(\"https://g1.globo.com/\")\n",
    "print(driver.title)\n",
    "driver.quit()"
   ]
  },
  {
   "cell_type": "code",
   "execution_count": 2,
   "metadata": {},
   "outputs": [
    {
     "name": "stdout",
     "output_type": "stream",
     "text": [
      "Chrome is installed. Installing and using chromedriver...\n",
      "Example Domain\n"
     ]
    }
   ],
   "source": [
    "from news_summarizer.webdriver import WebDriverFactory, ShutilBrowserLocator\n",
    "\n",
    "# Example usage\n",
    "factory = WebDriverFactory(ShutilBrowserLocator())\n",
    "driver = factory.get_webdriver()\n",
    "driver.get(\"https://example.com/\")\n",
    "print(driver.title)\n",
    "driver.quit()"
   ]
  }
 ],
 "metadata": {
  "kernelspec": {
   "display_name": "news_summarizer",
   "language": "python",
   "name": "python3"
  },
  "language_info": {
   "codemirror_mode": {
    "name": "ipython",
    "version": 3
   },
   "file_extension": ".py",
   "mimetype": "text/x-python",
   "name": "python",
   "nbconvert_exporter": "python",
   "pygments_lexer": "ipython3",
   "version": "3.11.8"
  }
 },
 "nbformat": 4,
 "nbformat_minor": 2
}
