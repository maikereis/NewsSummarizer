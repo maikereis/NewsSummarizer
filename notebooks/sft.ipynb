{
 "cells": [
  {
   "cell_type": "code",
   "execution_count": 1,
   "metadata": {},
   "outputs": [],
   "source": [
    "%load_ext autoreload\n",
    "%autoreload 2"
   ]
  },
  {
   "cell_type": "code",
   "execution_count": null,
   "metadata": {},
   "outputs": [],
   "source": [
    "import comet_ml\n",
    "from trl import SFTTrainer\n",
    "from datasets import load_dataset\n",
    "from transformers import TrainingArguments, TextStreamer\n",
    "from unsloth import FastLanguageModel, is_bfloat16_supported\n",
    "from unsloth.chat_templates import qwen25_template"
   ]
  },
  {
   "cell_type": "code",
   "execution_count": 22,
   "metadata": {},
   "outputs": [],
   "source": [
    "from news_summarizer.config import settings"
   ]
  },
  {
   "cell_type": "code",
   "execution_count": null,
   "metadata": {},
   "outputs": [],
   "source": [
    "experiment = comet_ml.start(project_name=\"NewsSummarizerSFT\")\n",
    "\n",
    "model_name = \"unsloth/Qwen2.5-1.5B\"\n",
    "max_seq_length = 512\n",
    "padding_side = \"left\"\n",
    "\n",
    "model, tokenizer = FastLanguageModel.from_pretrained(\n",
    "    model_name=model_name,\n",
    "    max_seq_length=max_seq_length,\n",
    "    dtype=\"float16\",\n",
    "    load_in_4bit=False,\n",
    ")\n",
    "\n",
    "tokenizer.chat_template = qwen25_template\n",
    "tokenizer.padding_side = padding_side\n",
    "tokenizer.truncation = True"
   ]
  },
  {
   "cell_type": "code",
   "execution_count": null,
   "metadata": {},
   "outputs": [],
   "source": [
    "model = FastLanguageModel.get_peft_model(\n",
    "    model,\n",
    "    r=32,\n",
    "    lora_alpha=32,\n",
    "    lora_dropout=0,\n",
    "    target_modules=[\n",
    "        \"q_proj\",\n",
    "        \"k_proj\",\n",
    "        \"v_proj\",\n",
    "        \"o_proj\",\n",
    "        \"gate_proj\",\n",
    "        \"up_proj\",\n",
    "        \"down_proj\",\n",
    "    ],\n",
    "    use_gradient_checkpointing=\"unsloth\",  # Save memory\n",
    ")"
   ]
  },
  {
   "cell_type": "markdown",
   "metadata": {},
   "source": [
    "### Load data"
   ]
  },
  {
   "cell_type": "code",
   "execution_count": null,
   "metadata": {},
   "outputs": [],
   "source": [
    "dataset = load_dataset(\n",
    "    \"json\",\n",
    "    data_files=\"../data/dataset/dataset_part*.json\",\n",
    "    split=\"train\",\n",
    ")\n",
    "\n",
    "\n",
    "EOS_TOKEN = tokenizer.eos_token\n",
    "\n",
    "\n",
    "# Format dataset into chat format\n",
    "def format_to_chat(example):\n",
    "    return {\n",
    "        \"messages\": [\n",
    "            {\"role\": \"system\", \"content\": \"Resuma o seguinte artigo.\"},\n",
    "            {\"role\": \"user\", \"content\": example[\"article\"]},\n",
    "            {\"role\": \"assistant\", \"content\": example[\"summary\"] + EOS_TOKEN},\n",
    "        ]\n",
    "    }\n",
    "\n",
    "\n",
    "# Apply formatting\n",
    "chat_dataset = dataset.map(format_to_chat, remove_columns=[\"article\", \"summary\"])\n",
    "\n",
    "# Split into train and test sets\n",
    "chat_dataset = chat_dataset.train_test_split(test_size=0.1)"
   ]
  },
  {
   "cell_type": "code",
   "execution_count": null,
   "metadata": {},
   "outputs": [],
   "source": [
    "chat_dataset.push_to_hub(\n",
    "    \"maikerdr/brazilian-news-articles\",\n",
    "    token=settings.huggingface.access_token._secret_value,\n",
    ")"
   ]
  },
  {
   "cell_type": "markdown",
   "metadata": {},
   "source": [
    "### Fine tune!"
   ]
  },
  {
   "cell_type": "code",
   "execution_count": null,
   "metadata": {},
   "outputs": [],
   "source": [
    "training_args = TrainingArguments(\n",
    "    per_device_train_batch_size=4,  # Adjust based on GPU memory\n",
    "    per_device_eval_batch_size=2,\n",
    "    gradient_accumulation_steps=8,\n",
    "    num_train_epochs=3,\n",
    "    learning_rate=3e-4,\n",
    "    lr_scheduler_type=\"linear\",\n",
    "    fp16=not is_bfloat16_supported(),\n",
    "    bf16=is_bfloat16_supported(),\n",
    "    logging_steps=1,\n",
    "    optim=\"adamw_8bit\",\n",
    "    weight_decay=0.01,\n",
    "    warmup_steps=10,\n",
    "    output_dir=\"../data/outputs\",\n",
    "    seed=0,\n",
    "    report_to=\"comet_ml\",\n",
    ")\n",
    "\n",
    "trainer = SFTTrainer(\n",
    "    model=model,\n",
    "    tokenizer=tokenizer,\n",
    "    train_dataset=chat_dataset[\"train\"],\n",
    "    eval_dataset=chat_dataset[\"test\"],\n",
    "    dataset_text_field=\"text\",\n",
    "    max_seq_length=max_seq_length,\n",
    "    dataset_num_proc=2,\n",
    "    args=training_args,\n",
    ")\n",
    "\n",
    "trainer_stats = trainer.train()\n",
    "experiment.end()"
   ]
  },
  {
   "cell_type": "code",
   "execution_count": null,
   "metadata": {},
   "outputs": [],
   "source": [
    "model.save_pretrained(\"../data/model/lora_model\")  # Local saving\n",
    "tokenizer.save_pretrained(\"../data/model/lora_model\")"
   ]
  },
  {
   "cell_type": "code",
   "execution_count": null,
   "metadata": {},
   "outputs": [],
   "source": [
    "model, tokenizer = FastLanguageModel.from_pretrained(\"../data/model/lora_model\")"
   ]
  },
  {
   "cell_type": "code",
   "execution_count": null,
   "metadata": {},
   "outputs": [],
   "source": [
    "model.push_to_hub(\n",
    "    \"maikerdr/NewsSummarizer-1.5B\",\n",
    "    token=settings.huggingface.access_token._secret_value,\n",
    ")  # Online saving\n",
    "tokenizer.push_to_hub(\n",
    "    \"maikerdr/NewsSummarizer-1.5B\",\n",
    "    token=settings.huggingface.access_token._secret_value,\n",
    ")  # Online saving"
   ]
  },
  {
   "cell_type": "code",
   "execution_count": null,
   "metadata": {},
   "outputs": [],
   "source": [
    "FastLanguageModel.for_inference(model)"
   ]
  },
  {
   "cell_type": "code",
   "execution_count": 16,
   "metadata": {},
   "outputs": [],
   "source": [
    "messages = [\n",
    "    {\n",
    "        \"content\": \"Resuma o seguinte artigo.\",\n",
    "        \"role\": \"system\",\n",
    "    },\n",
    "    {\n",
    "        \"content\": 'Após vencer a disputa pela Presidência da Câmara dos Deputados, Hugo Motta (Republicanos-PB) repetiu gesto de Ulysses Guimarães (1916-1992) ao erguer exemplar da Constituição de 1988 em seu discurso de posse. Eleito no sábado (1º) depois de receber 444 votos dos 513 possíveis, Motta recordou a atuação de Ulysses Guimarães, responsável por promulgar a Constituição Cidadã. \"Temos muito o que fazer. Antes de tudo, colegas de trabalho e de vida. Eu sei a responsabilidade que me espera. E sei também que ninguém faz nada sozinho. Citando Ulysses, muitos têm maior probabilidade de acertar do que um só\", afirmou o novo presidente da Câmara. Na ocasião, Motta também parafraseou trecho do discurso do presidente da Assembleia Nacional Constituinte em 5 de outubro de 1988 ao declarar que tem \"ódio e nojo à ditadura\". \"Estaremos sempre com a democracia, pela democracia e com a democracia. E seus inimigos encontraram no Legislativo uma barreira como sempre encontraram na história\", reiterou o deputado paraibano. \"Ainda Estou Aqui\" Ao concluir seu discurso de pouco mais de 20 minutos, Motta fez menção ao filme brasileiro \"Ainda Estou Aqui\", que retrata a história do ex-deputado federal Rubens Paiva (PTB-SP) — desaparecido e morto na ditadura militar. O longa recebeu três indicações ao Oscar 2025. \"Temos que estar sempre do lado do Brasil, em harmonia com os demais Poderes. Encerro com uma mensagem de otimismo: ainda estamos aqui\", encerrou o parlamentar. Quem é Hugo Motta Aos 35 anos, Hugo Motta Wanderley da Nóbrega tornou-se o deputado mais jovem a assumir o comando da Câmara nos seus quase 200 anos de história. De família tradicional na política paraibana, Motta está em seu quarto mandato consecutivo como deputado federal. Em 2010, foi o parlamentar mais jovem eleito naquele pleito. Motta fez parte da militância política do MDB, partido o qual foi filiado por mais de uma década. Em 2018, no entanto, deixou a sigla para se juntar ao Republicanos, à época chamado de Partido Republicano Brasileiro (PRB). Ao derrotar Marcel van Hattem (Novo-RS) e Pastor Henrique Vieira (PSOL-RJ), Motta levou o Republicanos à Presidência da Câmara pela primeira vez na história do partido',\n",
    "        \"role\": \"user\",\n",
    "    },\n",
    "]\n",
    "\n",
    "\n",
    "text = tokenizer.apply_chat_template(\n",
    "    messages, tokenize=False, add_generation_prompt=True\n",
    ")"
   ]
  },
  {
   "cell_type": "code",
   "execution_count": 17,
   "metadata": {},
   "outputs": [],
   "source": [
    "model_inputs = tokenizer([text], return_tensors=\"pt\").to(model.device)"
   ]
  },
  {
   "cell_type": "code",
   "execution_count": null,
   "metadata": {},
   "outputs": [],
   "source": [
    "text_streamer = TextStreamer(tokenizer)\n",
    "_ = model.generate(**model_inputs, streamer=text_streamer, max_new_tokens=512)"
   ]
  }
 ],
 "metadata": {
  "kernelspec": {
   "display_name": "news_summarizer",
   "language": "python",
   "name": "python3"
  },
  "language_info": {
   "codemirror_mode": {
    "name": "ipython",
    "version": 3
   },
   "file_extension": ".py",
   "mimetype": "text/x-python",
   "name": "python",
   "nbconvert_exporter": "python",
   "pygments_lexer": "ipython3",
   "version": "3.11.8"
  }
 },
 "nbformat": 4,
 "nbformat_minor": 2
}
