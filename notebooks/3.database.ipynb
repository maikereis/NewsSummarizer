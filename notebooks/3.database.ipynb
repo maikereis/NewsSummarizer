{
 "cells": [
  {
   "cell_type": "code",
   "execution_count": 31,
   "metadata": {},
   "outputs": [
    {
     "name": "stdout",
     "output_type": "stream",
     "text": [
      "The autoreload extension is already loaded. To reload it, use:\n",
      "  %reload_ext autoreload\n"
     ]
    }
   ],
   "source": [
    "%load_ext autoreload\n",
    "%autoreload 2"
   ]
  },
  {
   "cell_type": "code",
   "execution_count": 32,
   "metadata": {},
   "outputs": [],
   "source": [
    "import logging\n",
    "logger = logging.getLogger(__name__)"
   ]
  },
  {
   "cell_type": "code",
   "execution_count": 33,
   "metadata": {},
   "outputs": [],
   "source": [
    "from pydantic import SecretStr, Field\n",
    "from pydantic_settings import BaseSettings, SettingsConfigDict\n",
    "\n",
    "class OpenAISettings(BaseSettings):\n",
    "    model_config = SettingsConfigDict(env='.env', env_prefix='OPENAI_', protected_namespaces=('settings_',))\n",
    "    model_id: str = Field(None, env=\"MODEL_ID\")\n",
    "    api_key: SecretStr | None = Field(None, env=\"API_KEY\")\n",
    "\n",
    "class HuggingFaceSettings(BaseSettings):\n",
    "    model_config = SettingsConfigDict(env='.env', env_prefix='HUGGINGFACE_')\n",
    "    access_token: SecretStr | None = Field(None, env=\"ACCESS_TOKEN\")\n",
    "\n",
    "\n",
    "class MongoSettings(BaseSettings):\n",
    "    model_config = SettingsConfigDict(env='.env', env_prefix='MONGO_')\n",
    "    \n",
    "    username: str = Field('user', env=\"USERNAME\")\n",
    "    password: SecretStr = Field('pass', env=\"PASSWORD\")\n",
    "    host: str = Field('localhost', env=\"HOST\")\n",
    "    port: int = Field(27017, env=\"PORT\")\n",
    "\n",
    "    @property\n",
    "    def dsn(self) -> str:\n",
    "        return f\"mongodb://{self.username}:{self.password.get_secret_value()}@{self.host}:{self.port}\"\n",
    "\n",
    "class AWSSettings(BaseSettings):\n",
    "    model_config = SettingsConfigDict(env='.env', env_prefix='AWS_')\n",
    "    region: str = Field(\"sa-east-1\", env=\"REGION\")\n",
    "    access_key: str | None = Field(None, env=\"ACCESS_KEY\")\n",
    "    secret_key: SecretStr | None = Field(None, env=\"SECRET_KEY\")\n",
    "    arn_role: str | None = Field(None, env=\"ARN_ROLE\")\n",
    "\n",
    "class QdrantSettings(BaseSettings):\n",
    "    model_config = SettingsConfigDict(env='.env', env_prefix='QDRANT_')\n",
    "    use_cloud: bool = Field(False, env=\"USE_CLOUD\")\n",
    "    host: str = Field('localhost', env=\"DATABASE_HOST\")\n",
    "    port: int = Field(6333, env=\"DATABASE_PORT\")\n",
    "    cloud_url: str = Field(\"\", env=\"CLOUD_URL\")\n",
    "    apikey: SecretStr | None = Field(None, env=\"APIKEY\")\n",
    "\n",
    "class Settings:\n",
    "    def __init__(self):\n",
    "        self.openai = OpenAISettings()\n",
    "        self.huggingface = HuggingFaceSettings()\n",
    "        self.mongo = MongoSettings()\n",
    "        self.aws = AWSSettings()\n",
    "        self.qdrant = QdrantSettings()\n",
    "\n",
    "    @classmethod\n",
    "    def load_settings(cls) -> \"Settings\":\n",
    "        \"\"\"\n",
    "        Load settings from environment variables or defaults.\n",
    "        \"\"\"\n",
    "        return cls()\n"
   ]
  },
  {
   "cell_type": "code",
   "execution_count": 34,
   "metadata": {},
   "outputs": [],
   "source": [
    "settings = Settings().load_settings()"
   ]
  },
  {
   "cell_type": "code",
   "execution_count": 35,
   "metadata": {},
   "outputs": [],
   "source": [
    "from pymongo import MongoClient\n",
    "from pymongo.errors import ConnectionFailure\n",
    "\n",
    "class MongoDatabaseConnector:\n",
    "    _instance: MongoClient | None = None\n",
    "\n",
    "    def __new__(cls, *args, **kwargs) -> MongoClient:\n",
    "        if cls._instance is None:\n",
    "            try:\n",
    "                cls._instance = MongoClient(settings.mongo.dsn, serverSelectionTimeoutMS=5000)\n",
    "            except ConnectionFailure as e:\n",
    "                logger.error(f\"Couldn't connect to the MongoDB database: {e!s}\")\n",
    "                raise\n",
    "\n",
    "        logger.info(f\"Connection to MongoDB with URI successful: {settings.mongo.dsn}\")\n",
    "        return cls._instance\n"
   ]
  },
  {
   "cell_type": "code",
   "execution_count": 36,
   "metadata": {},
   "outputs": [],
   "source": [
    "connection = MongoDatabaseConnector()"
   ]
  },
  {
   "cell_type": "code",
   "execution_count": 37,
   "metadata": {},
   "outputs": [
    {
     "data": {
      "text/plain": [
       "{'ok': 1.0}"
      ]
     },
     "execution_count": 37,
     "metadata": {},
     "output_type": "execute_result"
    }
   ],
   "source": [
    "connection.admin.command(\"ping\")"
   ]
  },
  {
   "cell_type": "code",
   "execution_count": 38,
   "metadata": {},
   "outputs": [],
   "source": [
    "from news_summarizer.database.mongo import MongoDatabaseConnector"
   ]
  },
  {
   "cell_type": "code",
   "execution_count": 39,
   "metadata": {},
   "outputs": [],
   "source": [
    "connection = MongoDatabaseConnector()"
   ]
  },
  {
   "cell_type": "code",
   "execution_count": 40,
   "metadata": {},
   "outputs": [
    {
     "data": {
      "text/plain": [
       "{'ok': 1.0}"
      ]
     },
     "execution_count": 40,
     "metadata": {},
     "output_type": "execute_result"
    }
   ],
   "source": [
    "connection.admin.command('ping')"
   ]
  }
 ],
 "metadata": {
  "kernelspec": {
   "display_name": "news_summarizer",
   "language": "python",
   "name": "python3"
  },
  "language_info": {
   "codemirror_mode": {
    "name": "ipython",
    "version": 3
   },
   "file_extension": ".py",
   "mimetype": "text/x-python",
   "name": "python",
   "nbconvert_exporter": "python",
   "pygments_lexer": "ipython3",
   "version": "3.11.8"
  }
 },
 "nbformat": 4,
 "nbformat_minor": 2
}
