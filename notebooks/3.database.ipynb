{
 "cells": [
  {
   "cell_type": "code",
   "execution_count": 1,
   "metadata": {},
   "outputs": [],
   "source": [
    "%load_ext autoreload\n",
    "%autoreload 2"
   ]
  },
  {
   "cell_type": "code",
   "execution_count": 2,
   "metadata": {},
   "outputs": [],
   "source": [
    "import logging\n",
    "logger = logging.getLogger(__name__)"
   ]
  },
  {
   "cell_type": "code",
   "execution_count": 3,
   "metadata": {},
   "outputs": [],
   "source": [
    "from pydantic import Field, SecretStr\n",
    "from pydantic_settings import BaseSettings, SettingsConfigDict\n",
    "\n",
    "\n",
    "class OpenAISettings(BaseSettings):\n",
    "    model_config = SettingsConfigDict(env=\".env\", env_prefix=\"OPENAI_\", protected_namespaces=(\"settings_\",))\n",
    "    model_id: str = Field(\"gpt-4o-mini\", json_schema_extra={\"env\": \"MODEL_ID\"})\n",
    "    api_key: SecretStr | None = Field(None, json_schema_extra={\"env\": \"API_KEY\"})\n",
    "\n",
    "\n",
    "class HuggingFaceSettings(BaseSettings):\n",
    "    model_config = SettingsConfigDict(env=\".env\", env_prefix=\"HUGGINGFACE_\")\n",
    "    access_token: SecretStr | None = Field(None, json_schema_extra={\"env\":\"ACCESS_TOKEN\"})\n",
    "\n",
    "\n",
    "class MongoSettings(BaseSettings):\n",
    "    model_config = SettingsConfigDict(env=\".env\", env_prefix=\"MONGO_\")\n",
    "    username: str = Field(\"user\", json_schema_extra={\"env\":\"USERNAME\"})\n",
    "    password: SecretStr = Field(\"pass\", json_schema_extra={\"env\":\"PASSWORD\"})\n",
    "    host: str = Field(\"localhost\", json_schema_extra={\"env\":\"HOST\"})\n",
    "    port: int = Field(27017, json_schema_extra={\"env\":\"PORT\"})\n",
    "\n",
    "    @property\n",
    "    def dsn(self) -> str:\n",
    "        return f\"mongodb://{self.username}:{self.password.get_secret_value()}@{self.host}:{self.port}\"\n",
    "\n",
    "\n",
    "class AWSSettings(BaseSettings):\n",
    "    model_config = SettingsConfigDict(env=\".env\", env_prefix=\"AWS_\")\n",
    "    region: str = Field(\"sa-east-1\", json_schema_extra={\"env\":\"REGION\"})\n",
    "    access_key: str | None = Field(None, json_schema_extra={\"env\":\"ACCESS_KEY\"})\n",
    "    secret_key: SecretStr | None = Field(None, json_schema_extra={\"env\":\"SECRET_KEY\"})\n",
    "    arn_role: str | None = Field(None, json_schema_extra={\"env\":\"ARN_ROLE\"})\n",
    "\n",
    "\n",
    "class QdrantSettings(BaseSettings):\n",
    "    model_config = SettingsConfigDict(env=\".env\", env_prefix=\"QDRANT_\")\n",
    "    use_cloud: bool = Field(False, json_schema_extra={\"env\":\"USE_CLOUD\"})\n",
    "    host: str = Field(\"localhost\", json_schema_extra={\"env\":\"DATABASE_HOST\"})\n",
    "    port: int = Field(6333, json_schema_extra={\"env\":\"DATABASE_PORT\"})\n",
    "    cloud_url: str = Field(\"\", json_schema_extra={\"env\":\"CLOUD_URL\"})\n",
    "    apikey: SecretStr | None = Field(None, json_schema_extra={\"env\":\"APIKEY\"})\n",
    "\n",
    "\n",
    "class Settings:\n",
    "    def __init__(self):\n",
    "        self.openai = OpenAISettings()\n",
    "        self.huggingface = HuggingFaceSettings()\n",
    "        self.mongo = MongoSettings()\n",
    "        self.aws = AWSSettings()\n",
    "        self.qdrant = QdrantSettings()\n",
    "\n",
    "    @classmethod\n",
    "    def load_settings(cls) -> \"Settings\":\n",
    "        \"\"\"\n",
    "        Load settings from environment variables or defaults.\n",
    "        \"\"\"\n",
    "        return cls()"
   ]
  },
  {
   "cell_type": "code",
   "execution_count": 4,
   "metadata": {},
   "outputs": [],
   "source": [
    "settings = Settings().load_settings()"
   ]
  },
  {
   "cell_type": "code",
   "execution_count": 5,
   "metadata": {},
   "outputs": [],
   "source": [
    "from pymongo import MongoClient\n",
    "from pymongo.errors import ConnectionFailure\n",
    "\n",
    "class MongoDatabaseConnector:\n",
    "    _instance: MongoClient | None = None\n",
    "\n",
    "    def __new__(cls, *args, **kwargs) -> MongoClient:\n",
    "        if cls._instance is None:\n",
    "            try:\n",
    "                cls._instance = MongoClient(settings.mongo.dsn, serverSelectionTimeoutMS=5000)\n",
    "            except ConnectionFailure as e:\n",
    "                logger.error(f\"Couldn't connect to the MongoDB database: {e!s}\")\n",
    "                raise\n",
    "\n",
    "        logger.info(f\"Connection to MongoDB with URI successful: {settings.mongo.dsn}\")\n",
    "        return cls._instance\n"
   ]
  },
  {
   "cell_type": "code",
   "execution_count": 6,
   "metadata": {},
   "outputs": [],
   "source": [
    "connection = MongoDatabaseConnector()"
   ]
  },
  {
   "cell_type": "code",
   "execution_count": 7,
   "metadata": {},
   "outputs": [
    {
     "data": {
      "text/plain": [
       "{'ok': 1.0}"
      ]
     },
     "execution_count": 7,
     "metadata": {},
     "output_type": "execute_result"
    }
   ],
   "source": [
    "connection.admin.command(\"ping\")"
   ]
  },
  {
   "cell_type": "code",
   "execution_count": 8,
   "metadata": {},
   "outputs": [],
   "source": [
    "from news_summarizer.database.mongo import MongoDatabaseConnector"
   ]
  },
  {
   "cell_type": "code",
   "execution_count": 9,
   "metadata": {},
   "outputs": [],
   "source": [
    "connection = MongoDatabaseConnector()"
   ]
  },
  {
   "cell_type": "code",
   "execution_count": 10,
   "metadata": {},
   "outputs": [
    {
     "data": {
      "text/plain": [
       "{'ok': 1.0}"
      ]
     },
     "execution_count": 10,
     "metadata": {},
     "output_type": "execute_result"
    }
   ],
   "source": [
    "connection.admin.command('ping')"
   ]
  }
 ],
 "metadata": {
  "kernelspec": {
   "display_name": "news_summarizer",
   "language": "python",
   "name": "python3"
  },
  "language_info": {
   "codemirror_mode": {
    "name": "ipython",
    "version": 3
   },
   "file_extension": ".py",
   "mimetype": "text/x-python",
   "name": "python",
   "nbconvert_exporter": "python",
   "pygments_lexer": "ipython3",
   "version": "3.11.8"
  }
 },
 "nbformat": 4,
 "nbformat_minor": 2
}
