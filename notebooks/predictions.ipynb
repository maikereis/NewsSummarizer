{
 "cells": [
  {
   "cell_type": "code",
   "execution_count": 5,
   "metadata": {},
   "outputs": [],
   "source": [
    "%load_ext autoreload\n",
    "%autoreload 2\n"
   ]
  },
  {
   "cell_type": "code",
   "execution_count": null,
   "metadata": {},
   "outputs": [
    {
     "name": "stdout",
     "output_type": "stream",
     "text": [
      "🦥 Unsloth: Will patch your computer to enable 2x faster free finetuning.\n",
      "🦥 Unsloth Zoo will now patch everything to make training faster!\n"
     ]
    }
   ],
   "source": [
    "from unsloth import FastLanguageModel\n",
    "from transformers import AutoTokenizer, TextStreamer"
   ]
  },
  {
   "cell_type": "code",
   "execution_count": null,
   "metadata": {},
   "outputs": [
    {
     "name": "stdout",
     "output_type": "stream",
     "text": [
      "==((====))==  Unsloth 2025.1.8: Fast Qwen2 patching. Transformers: 4.48.1.\n",
      "   \\\\   /|    GPU: NVIDIA GeForce RTX 3070. Max memory: 8.0 GB. Platform: Linux.\n",
      "O^O/ \\_/ \\    Torch: 2.5.0+cu124. CUDA: 8.6. CUDA Toolkit: 12.4. Triton: 3.1.0\n",
      "\\        /    Bfloat16 = TRUE. FA [Xformers = 0.0.28.post2. FA2 = False]\n",
      " \"-____-\"     Free Apache license: http://github.com/unslothai/unsloth\n",
      "Unsloth: Fast downloading is enabled - ignore downloading bars which are red colored!\n"
     ]
    },
    {
     "data": {
      "application/vnd.jupyter.widget-view+json": {
       "model_id": "808d97f8de624d02b3473610e5cb60e9",
       "version_major": 2,
       "version_minor": 0
      },
      "text/plain": [
       "generation_config.json:   0%|          | 0.00/171 [00:00<?, ?B/s]"
      ]
     },
     "metadata": {},
     "output_type": "display_data"
    },
    {
     "name": "stderr",
     "output_type": "stream",
     "text": [
      "Unsloth 2025.1.8 patched 28 layers with 28 QKV layers, 28 O layers and 28 MLP layers.\n"
     ]
    }
   ],
   "source": [
    "model, tokenizer = FastLanguageModel.from_pretrained(\"maikerdr/NewsSummarizer-1.5B\")\n",
    "# Due to a bug on Unsloth, tokenizer config files are not being imported so the chat template will not be available\n",
    "# We need to re-import using HF autotokenizer\n",
    "tokenizer = AutoTokenizer.from_pretrained(\n",
    "    \"maikerdr/NewsSummarizer-1.5B\", device_map=\"cuda:0\"\n",
    ")"
   ]
  },
  {
   "cell_type": "code",
   "execution_count": 3,
   "metadata": {},
   "outputs": [
    {
     "data": {
      "text/plain": [
       "PeftModelForCausalLM(\n",
       "  (base_model): LoraModel(\n",
       "    (model): Qwen2ForCausalLM(\n",
       "      (model): Qwen2Model(\n",
       "        (embed_tokens): Embedding(151936, 1536, padding_idx=151654)\n",
       "        (layers): ModuleList(\n",
       "          (0-27): 28 x Qwen2DecoderLayer(\n",
       "            (self_attn): Qwen2Attention(\n",
       "              (q_proj): lora.Linear4bit(\n",
       "                (base_layer): Linear4bit(in_features=1536, out_features=1536, bias=True)\n",
       "                (lora_dropout): ModuleDict(\n",
       "                  (default): Identity()\n",
       "                )\n",
       "                (lora_A): ModuleDict(\n",
       "                  (default): Linear(in_features=1536, out_features=32, bias=False)\n",
       "                )\n",
       "                (lora_B): ModuleDict(\n",
       "                  (default): Linear(in_features=32, out_features=1536, bias=False)\n",
       "                )\n",
       "                (lora_embedding_A): ParameterDict()\n",
       "                (lora_embedding_B): ParameterDict()\n",
       "                (lora_magnitude_vector): ModuleDict()\n",
       "              )\n",
       "              (k_proj): lora.Linear4bit(\n",
       "                (base_layer): Linear4bit(in_features=1536, out_features=256, bias=True)\n",
       "                (lora_dropout): ModuleDict(\n",
       "                  (default): Identity()\n",
       "                )\n",
       "                (lora_A): ModuleDict(\n",
       "                  (default): Linear(in_features=1536, out_features=32, bias=False)\n",
       "                )\n",
       "                (lora_B): ModuleDict(\n",
       "                  (default): Linear(in_features=32, out_features=256, bias=False)\n",
       "                )\n",
       "                (lora_embedding_A): ParameterDict()\n",
       "                (lora_embedding_B): ParameterDict()\n",
       "                (lora_magnitude_vector): ModuleDict()\n",
       "              )\n",
       "              (v_proj): lora.Linear4bit(\n",
       "                (base_layer): Linear4bit(in_features=1536, out_features=256, bias=True)\n",
       "                (lora_dropout): ModuleDict(\n",
       "                  (default): Identity()\n",
       "                )\n",
       "                (lora_A): ModuleDict(\n",
       "                  (default): Linear(in_features=1536, out_features=32, bias=False)\n",
       "                )\n",
       "                (lora_B): ModuleDict(\n",
       "                  (default): Linear(in_features=32, out_features=256, bias=False)\n",
       "                )\n",
       "                (lora_embedding_A): ParameterDict()\n",
       "                (lora_embedding_B): ParameterDict()\n",
       "                (lora_magnitude_vector): ModuleDict()\n",
       "              )\n",
       "              (o_proj): lora.Linear4bit(\n",
       "                (base_layer): Linear4bit(in_features=1536, out_features=1536, bias=False)\n",
       "                (lora_dropout): ModuleDict(\n",
       "                  (default): Identity()\n",
       "                )\n",
       "                (lora_A): ModuleDict(\n",
       "                  (default): Linear(in_features=1536, out_features=32, bias=False)\n",
       "                )\n",
       "                (lora_B): ModuleDict(\n",
       "                  (default): Linear(in_features=32, out_features=1536, bias=False)\n",
       "                )\n",
       "                (lora_embedding_A): ParameterDict()\n",
       "                (lora_embedding_B): ParameterDict()\n",
       "                (lora_magnitude_vector): ModuleDict()\n",
       "              )\n",
       "              (rotary_emb): LlamaRotaryEmbedding()\n",
       "            )\n",
       "            (mlp): Qwen2MLP(\n",
       "              (gate_proj): lora.Linear4bit(\n",
       "                (base_layer): Linear4bit(in_features=1536, out_features=8960, bias=False)\n",
       "                (lora_dropout): ModuleDict(\n",
       "                  (default): Identity()\n",
       "                )\n",
       "                (lora_A): ModuleDict(\n",
       "                  (default): Linear(in_features=1536, out_features=32, bias=False)\n",
       "                )\n",
       "                (lora_B): ModuleDict(\n",
       "                  (default): Linear(in_features=32, out_features=8960, bias=False)\n",
       "                )\n",
       "                (lora_embedding_A): ParameterDict()\n",
       "                (lora_embedding_B): ParameterDict()\n",
       "                (lora_magnitude_vector): ModuleDict()\n",
       "              )\n",
       "              (up_proj): lora.Linear4bit(\n",
       "                (base_layer): Linear4bit(in_features=1536, out_features=8960, bias=False)\n",
       "                (lora_dropout): ModuleDict(\n",
       "                  (default): Identity()\n",
       "                )\n",
       "                (lora_A): ModuleDict(\n",
       "                  (default): Linear(in_features=1536, out_features=32, bias=False)\n",
       "                )\n",
       "                (lora_B): ModuleDict(\n",
       "                  (default): Linear(in_features=32, out_features=8960, bias=False)\n",
       "                )\n",
       "                (lora_embedding_A): ParameterDict()\n",
       "                (lora_embedding_B): ParameterDict()\n",
       "                (lora_magnitude_vector): ModuleDict()\n",
       "              )\n",
       "              (down_proj): lora.Linear4bit(\n",
       "                (base_layer): Linear4bit(in_features=8960, out_features=1536, bias=False)\n",
       "                (lora_dropout): ModuleDict(\n",
       "                  (default): Identity()\n",
       "                )\n",
       "                (lora_A): ModuleDict(\n",
       "                  (default): Linear(in_features=8960, out_features=32, bias=False)\n",
       "                )\n",
       "                (lora_B): ModuleDict(\n",
       "                  (default): Linear(in_features=32, out_features=1536, bias=False)\n",
       "                )\n",
       "                (lora_embedding_A): ParameterDict()\n",
       "                (lora_embedding_B): ParameterDict()\n",
       "                (lora_magnitude_vector): ModuleDict()\n",
       "              )\n",
       "              (act_fn): SiLU()\n",
       "            )\n",
       "            (input_layernorm): Qwen2RMSNorm((1536,), eps=1e-06)\n",
       "            (post_attention_layernorm): Qwen2RMSNorm((1536,), eps=1e-06)\n",
       "          )\n",
       "        )\n",
       "        (norm): Qwen2RMSNorm((1536,), eps=1e-06)\n",
       "        (rotary_emb): LlamaRotaryEmbedding()\n",
       "      )\n",
       "      (lm_head): Linear(in_features=1536, out_features=151936, bias=False)\n",
       "    )\n",
       "  )\n",
       ")"
      ]
     },
     "execution_count": 3,
     "metadata": {},
     "output_type": "execute_result"
    }
   ],
   "source": [
    "FastLanguageModel.for_inference(model)"
   ]
  },
  {
   "cell_type": "code",
   "execution_count": 9,
   "metadata": {},
   "outputs": [],
   "source": [
    "SAMPLE_ARTICLE = 'Após vencer a disputa pela Presidência da Câmara dos Deputados, Hugo Motta (Republicanos-PB) repetiu gesto de Ulysses Guimarães (1916-1992) ao erguer exemplar da Constituição de 1988 em seu discurso de posse. Eleito no sábado (1º) depois de receber 444 votos dos 513 possíveis, Motta recordou a atuação de Ulysses Guimarães, responsável por promulgar a Constituição Cidadã. \"Temos muito o que fazer. Antes de tudo, colegas de trabalho e de vida. Eu sei a responsabilidade que me espera. E sei também que ninguém faz nada sozinho. Citando Ulysses, muitos têm maior probabilidade de acertar do que um só\", afirmou o novo presidente da Câmara. Na ocasião, Motta também parafraseou trecho do discurso do presidente da Assembleia Nacional Constituinte em 5 de outubro de 1988 ao declarar que tem \"ódio e nojo à ditadura\". \"Estaremos sempre com a democracia, pela democracia e com a democracia. E seus inimigos encontraram no Legislativo uma barreira como sempre encontraram na história\", reiterou o deputado paraibano. \"Ainda Estou Aqui\" Ao concluir seu discurso de pouco mais de 20 minutos, Motta fez menção ao filme brasileiro \"Ainda Estou Aqui\", que retrata a história do ex-deputado federal Rubens Paiva (PTB-SP) — desaparecido e morto na ditadura militar. O longa recebeu três indicações ao Oscar 2025. \"Temos que estar sempre do lado do Brasil, em harmonia com os demais Poderes. Encerro com uma mensagem de otimismo: ainda estamos aqui\", encerrou o parlamentar. Quem é Hugo Motta Aos 35 anos, Hugo Motta Wanderley da Nóbrega tornou-se o deputado mais jovem a assumir o comando da Câmara nos seus quase 200 anos de história. De família tradicional na política paraibana, Motta está em seu quarto mandato consecutivo como deputado federal. Em 2010, foi o parlamentar mais jovem eleito naquele pleito. Motta fez parte da militância política do MDB, partido o qual foi filiado por mais de uma década. Em 2018, no entanto, deixou a sigla para se juntar ao Republicanos, à época chamado de Partido Republicano Brasileiro (PRB). Ao derrotar Marcel van Hattem (Novo-RS) e Pastor Henrique Vieira (PSOL-RJ), Motta levou o Republicanos à Presidência da Câmara pela primeira vez na história do partido'"
   ]
  },
  {
   "cell_type": "code",
   "execution_count": 10,
   "metadata": {},
   "outputs": [
    {
     "name": "stdout",
     "output_type": "stream",
     "text": [
      "<|im_start|>system\n",
      "Resuma o seguinte artigo.<|im_end|>\n",
      "<|im_start|>user\n",
      "Após vencer a disputa pela Presidência da Câmara dos Deputados, Hugo Motta (Republicanos-PB) repetiu gesto de Ulysses Guimarães (1916-1992) ao erguer exemplar da Constituição de 1988 em seu discurso de posse. Eleito no sábado (1º) depois de receber 444 votos dos 513 possíveis, Motta recordou a atuação de Ulysses Guimarães, responsável por promulgar a Constituição Cidadã. \"Temos muito o que fazer. Antes de tudo, colegas de trabalho e de vida. Eu sei a responsabilidade que me espera. E sei também que ninguém faz nada sozinho. Citando Ulysses, muitos têm maior probabilidade de acertar do que um só\", afirmou o novo presidente da Câmara. Na ocasião, Motta também parafraseou trecho do discurso do presidente da Assembleia Nacional Constituinte em 5 de outubro de 1988 ao declarar que tem \"ódio e nojo à ditadura\". \"Estaremos sempre com a democracia, pela democracia e com a democracia. E seus inimigos encontraram no Legislativo uma barreira como sempre encontraram na história\", reiterou o deputado paraibano. \"Ainda Estou Aqui\" Ao concluir seu discurso de pouco mais de 20 minutos, Motta fez menção ao filme brasileiro \"Ainda Estou Aqui\", que retrata a história do ex-deputado federal Rubens Paiva (PTB-SP) — desaparecido e morto na ditadura militar. O longa recebeu três indicações ao Oscar 2025. \"Temos que estar sempre do lado do Brasil, em harmonia com os demais Poderes. Encerro com uma mensagem de otimismo: ainda estamos aqui\", encerrou o parlamentar. Quem é Hugo Motta Aos 35 anos, Hugo Motta Wanderley da Nóbrega tornou-se o deputado mais jovem a assumir o comando da Câmara nos seus quase 200 anos de história. De família tradicional na política paraibana, Motta está em seu quarto mandato consecutivo como deputado federal. Em 2010, foi o parlamentar mais jovem eleito naquele pleito. Motta fez parte da militância política do MDB, partido o qual foi filiado por mais de uma década. Em 2018, no entanto, deixou a sigla para se juntar ao Republicanos, à época chamado de Partido Republicano Brasileiro (PRB). Ao derrotar Marcel van Hattem (Novo-RS) e Pastor Henrique Vieira (PSOL-RJ), Motta levou o Republicanos à Presidência da Câmara pela primeira vez na história do partido<|im_end|>\n",
      "<|im_start|>assistant\n",
      "Hugo Motta, eleito presidente da Câmara dos Deputados, reiterou gesto de Ulysses Guimarães ao erguer exemplar da Constituição de 1988 em seu discurso de posse. Eleito no sábado, Motta recordou atuação de Guimarães e citou Ulysses Guimarães, responsável por promulgar Constituição Cidadã. Motta citou \"Ódio e nojo à ditadura\" historicamente\", reiterando que democracia será sempre defendida.<|endoftext|>\n"
     ]
    }
   ],
   "source": [
    "messages = [\n",
    "    {\n",
    "        \"content\": \"Resuma o seguinte artigo.\",\n",
    "        \"role\": \"system\",\n",
    "    },\n",
    "    {\n",
    "        \"content\": SAMPLE_ARTICLE,\n",
    "        \"role\": \"user\",\n",
    "    },\n",
    "]\n",
    "\n",
    "\n",
    "text = tokenizer.apply_chat_template(\n",
    "    messages, tokenize=False, add_generation_prompt=True\n",
    ")\n",
    "\n",
    "model_inputs = tokenizer([text], return_tensors=\"pt\").to(model.device)\n",
    "\n",
    "text_streamer = TextStreamer(tokenizer)\n",
    "_ = model.generate(**model_inputs, streamer=text_streamer, max_new_tokens=512)"
   ]
  }
 ],
 "metadata": {
  "kernelspec": {
   "display_name": "news_summarizer",
   "language": "python",
   "name": "python3"
  },
  "language_info": {
   "codemirror_mode": {
    "name": "ipython",
    "version": 3
   },
   "file_extension": ".py",
   "mimetype": "text/x-python",
   "name": "python",
   "nbconvert_exporter": "python",
   "pygments_lexer": "ipython3",
   "version": "3.11.8"
  }
 },
 "nbformat": 4,
 "nbformat_minor": 2
}
