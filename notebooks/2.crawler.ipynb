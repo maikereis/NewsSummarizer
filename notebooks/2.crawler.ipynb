{
 "cells": [
  {
   "cell_type": "code",
   "execution_count": 170,
   "metadata": {},
   "outputs": [
    {
     "name": "stderr",
     "output_type": "stream",
     "text": [
      "INFO:WDM:====== WebDriver manager ======\n"
     ]
    },
    {
     "name": "stderr",
     "output_type": "stream",
     "text": [
      "INFO:WDM:Get LATEST chromedriver version for google-chrome\n",
      "INFO:WDM:Get LATEST chromedriver version for google-chrome\n",
      "INFO:WDM:Driver [/home/llya/.wdm/drivers/chromedriver/linux64/131.0.6778.108/chromedriver-linux64/chromedriver] found in cache\n",
      "INFO:WDM:====== WebDriver manager ======\n",
      "INFO:WDM:Get LATEST edgedriver version for Edge 131.0.2903\n",
      "INFO:WDM:Get LATEST edgedriver version for Edge 131.0.2903\n",
      "INFO:WDM:Driver [/home/llya/.wdm/drivers/edgedriver/linux64/131.0.2903.87/msedgedriver] found in cache\n"
     ]
    },
    {
     "name": "stdout",
     "output_type": "stream",
     "text": [
      "The autoreload extension is already loaded. To reload it, use:\n",
      "  %reload_ext autoreload\n"
     ]
    }
   ],
   "source": [
    "%load_ext autoreload\n",
    "%autoreload 2"
   ]
  },
  {
   "cell_type": "code",
   "execution_count": 171,
   "metadata": {},
   "outputs": [
    {
     "name": "stderr",
     "output_type": "stream",
     "text": [
      "INFO:news_summarizer.crawler.executor:Starting crawler for link: https://g1.globo.com/\n",
      "INFO:news_summarizer.crawler.executor:Starting crawler for link: https://bandnewstv.uol.com.br/\n"
     ]
    },
    {
     "name": "stderr",
     "output_type": "stream",
     "text": [
      "ERROR:news_summarizer.crawler.newspaper_website:Failed to append hyperlink with title '' and URL '/'. Validation error: 1 validation error for Link\n",
      "url\n",
      "  Input should be a valid URL, relative URL without a base [type=url_parsing, input_value='/', input_type=str]\n",
      "    For further information visit https://errors.pydantic.dev/2.8/v/url_parsing\n",
      "ERROR:news_summarizer.crawler.newspaper_website:Failed to append hyperlink with title '' and URL '/'. Validation error: 1 validation error for Link\n",
      "url\n",
      "  Input should be a valid URL, relative URL without a base [type=url_parsing, input_value='/', input_type=str]\n",
      "    For further information visit https://errors.pydantic.dev/2.8/v/url_parsing\n",
      "ERROR:news_summarizer.crawler.newspaper_website:Failed to append hyperlink with title '' and URL '/'. Validation error: 1 validation error for Link\n",
      "url\n",
      "  Input should be a valid URL, relative URL without a base [type=url_parsing, input_value='/', input_type=str]\n",
      "    For further information visit https://errors.pydantic.dev/2.8/v/url_parsing\n",
      "ERROR:news_summarizer.crawler.newspaper_website:Failed to append hyperlink with title '' and URL '/'. Validation error: 1 validation error for Link\n",
      "url\n",
      "  Input should be a valid URL, relative URL without a base [type=url_parsing, input_value='/', input_type=str]\n",
      "    For further information visit https://errors.pydantic.dev/2.8/v/url_parsing\n",
      "ERROR:news_summarizer.crawler.newspaper_website:Failed to append hyperlink with title '' and URL '/'. Validation error: 1 validation error for Link\n",
      "url\n",
      "  Input should be a valid URL, relative URL without a base [type=url_parsing, input_value='/', input_type=str]\n",
      "    For further information visit https://errors.pydantic.dev/2.8/v/url_parsing\n",
      "ERROR:news_summarizer.crawler.newspaper_website:Failed to append hyperlink with title '' and URL '/'. Validation error: 1 validation error for Link\n",
      "url\n",
      "  Input should be a valid URL, relative URL without a base [type=url_parsing, input_value='/', input_type=str]\n",
      "    For further information visit https://errors.pydantic.dev/2.8/v/url_parsing\n",
      "ERROR:news_summarizer.crawler.newspaper_website:Failed to append hyperlink with title '' and URL '/'. Validation error: 1 validation error for Link\n",
      "url\n",
      "  Input should be a valid URL, relative URL without a base [type=url_parsing, input_value='/', input_type=str]\n",
      "    For further information visit https://errors.pydantic.dev/2.8/v/url_parsing\n",
      "ERROR:news_summarizer.crawler.newspaper_website:Failed to append hyperlink with title '' and URL '/'. Validation error: 1 validation error for Link\n",
      "url\n",
      "  Input should be a valid URL, relative URL without a base [type=url_parsing, input_value='/', input_type=str]\n",
      "    For further information visit https://errors.pydantic.dev/2.8/v/url_parsing\n",
      "INFO:news_summarizer.crawler.newspaper_website:Found 118 hyperlinks on 'https://bandnewstv.uol.com.br/'\n",
      "INFO:news_summarizer.crawler.executor:Starting crawler for link: https://www.r7.com/\n",
      "INFO:news_summarizer.crawler.newspaper_website:Start searching hyperlinks for link: https://www.r7.com/\n",
      "ERROR:news_summarizer.crawler.newspaper_website:Error trying to parse date for https://g1.globo.com/globonews/jornal-globonews/video/braga-netto-e-preso-no-inquerito-do-golpe-13184235.ghtml\n",
      "ERROR:news_summarizer.crawler.newspaper_website:Error trying to parse date for https://g1.globo.com/globonews/jornal-globonews/video/braga-netto-e-preso-no-inquerito-do-golpe-13184235.ghtml\n",
      "ERROR:news_summarizer.crawler.newspaper_website:Failed to append hyperlink with title 'gastronomia' and URL '#gastronomia'. Validation error: 1 validation error for Link\n",
      "url\n",
      "  Input should be a valid URL, relative URL without a base [type=url_parsing, input_value='#gastronomia', input_type=str]\n",
      "    For further information visit https://errors.pydantic.dev/2.8/v/url_parsing\n",
      "ERROR:news_summarizer.crawler.newspaper_website:Failed to append hyperlink with title '#lula' and URL '#lula'. Validation error: 1 validation error for Link\n",
      "url\n",
      "  Input should be a valid URL, relative URL without a base [type=url_parsing, input_value='#lula', input_type=str]\n",
      "    For further information visit https://errors.pydantic.dev/2.8/v/url_parsing\n",
      "ERROR:news_summarizer.crawler.newspaper_website:Failed to append hyperlink with title 'Últimas Notícias' and URL '/ultimas-noticias/'. Validation error: 1 validation error for Link\n",
      "url\n",
      "  Input should be a valid URL, relative URL without a base [type=url_parsing, input_value='/ultimas-noticias/', input_type=str]\n",
      "    For further information visit https://errors.pydantic.dev/2.8/v/url_parsing\n",
      "ERROR:news_summarizer.crawler.newspaper_website:Failed to append hyperlink with title 'Acesse sua contaou cadastre-se grátis' and URL '#'. Validation error: 1 validation error for Link\n",
      "url\n",
      "  Input should be a valid URL, relative URL without a base [type=url_parsing, input_value='#', input_type=str]\n",
      "    For further information visit https://errors.pydantic.dev/2.8/v/url_parsing\n",
      "ERROR:news_summarizer.crawler.newspaper_website:Failed to append hyperlink with title 'sair da conta' and URL '#'. Validation error: 1 validation error for Link\n",
      "url\n",
      "  Input should be a valid URL, relative URL without a base [type=url_parsing, input_value='#', input_type=str]\n",
      "    For further information visit https://errors.pydantic.dev/2.8/v/url_parsing\n",
      "ERROR:news_summarizer.crawler.newspaper_website:Failed to append hyperlink with title '#' and URL '#'. Validation error: 1 validation error for Link\n",
      "url\n",
      "  Input should be a valid URL, relative URL without a base [type=url_parsing, input_value='#', input_type=str]\n",
      "    For further information visit https://errors.pydantic.dev/2.8/v/url_parsing\n",
      "INFO:news_summarizer.crawler.newspaper_website:Found 847 hyperlinks on 'https://g1.globo.com/'\n",
      "ERROR:news_summarizer.crawler.newspaper_website:Error trying to parse date for https://www.callofwar.com?L=5&r=94930&placement=r7-r7com_1191250&c=4002275843&tblci=GiDRej5YRZbKNUlQNCT59FaX6_lsLBkMFCNFHxoZ6hLCvSCthFko27SS8Yjk_79VMNLaSA#tblciGiDRej5YRZbKNUlQNCT59FaX6_lsLBkMFCNFHxoZ6hLCvSCthFko27SS8Yjk_79VMNLaSA\n",
      "ERROR:news_summarizer.crawler.newspaper_website:Error trying to parse date for https://www.callofwar.com?L=5&r=94930&placement=r7-r7com_1191250&c=4002275843&tblci=GiDRej5YRZbKNUlQNCT59FaX6_lsLBkMFCNFHxoZ6hLCvSCthFko27SS8Yjk_79VMNLaSA#tblciGiDRej5YRZbKNUlQNCT59FaX6_lsLBkMFCNFHxoZ6hLCvSCthFko27SS8Yjk_79VMNLaSA\n",
      "ERROR:news_summarizer.crawler.newspaper_website:Error trying to parse date for https://www.callofwar.com?L=5&r=94930&placement=r7-r7com_1191250&c=4002275851&tblci=GiDRej5YRZbKNUlQNCT59FaX6_lsLBkMFCNFHxoZ6hLCvSCthFko56HR5KnghZDxATDS2kg#tblciGiDRej5YRZbKNUlQNCT59FaX6_lsLBkMFCNFHxoZ6hLCvSCthFko56HR5KnghZDxATDS2kg\n",
      "ERROR:news_summarizer.crawler.newspaper_website:Error trying to parse date for https://www.callofwar.com?L=5&r=94930&placement=r7-r7com_1191250&c=4002275851&tblci=GiDRej5YRZbKNUlQNCT59FaX6_lsLBkMFCNFHxoZ6hLCvSCthFko56HR5KnghZDxATDS2kg#tblciGiDRej5YRZbKNUlQNCT59FaX6_lsLBkMFCNFHxoZ6hLCvSCthFko56HR5KnghZDxATDS2kg\n",
      "ERROR:news_summarizer.crawler.newspaper_website:Error trying to parse date for https://info.doutornature.com/sfunnel/12509?utm_source=taboola&utm_medium=cpc&utm_campaign=padrao&dn_campanha_id=42566701&dn_campanha_nome=42566701&dn_angulo=move360_dores_articulacoes&dn_destino_tipo=move360_vsl&dn_destino=move360_adv01&dn_ad_tipo=move360_video&tb_campaign_id=42566701&tb_publisher=r7-r7com&tb_site_id=1191250&tb_ad=Artrite%3A%C2%A0A+maneira+mais+r%C3%A1pida+para+melhorar+as+dores+articulares&tb_creative=http%3A%2F%2Fcdn.taboola.com%2Flibtrc%2Fstatic%2Fthumbnails%2F2886cf5126e3eb86acc94df3c0ce88b0.png&tb_campaign_item_id=4078008418&tb_campaign_name=%5Bmove%5D%5Bescala%5D%5Bdesktop%5D%5Bblacklist%5D%5Badv01%5D%5B01-10%5D%5Bcpc%5D%5Brodando%5D%5Bsfunnel%3D12509%5D&tb_cpc={cpc}&tb_campaign_site=42566701-1191250&tb_click_id=GiDRej5YRZbKNUlQNCT59FaX6_lsLBkMFCNFHxoZ6hLCvSC8tUoopJbXwrKyn5UoMNLaSA&tblci=GiDRej5YRZbKNUlQNCT59FaX6_lsLBkMFCNFHxoZ6hLCvSC8tUoopJbXwrKyn5UoMNLaSA#tblciGiDRej5YRZbKNUlQNCT59FaX6_lsLBkMFCNFHxoZ6hLCvSC8tUoopJbXwrKyn5UoMNLaSA\n",
      "ERROR:news_summarizer.crawler.newspaper_website:Error trying to parse date for https://info.doutornature.com/sfunnel/12509?utm_source=taboola&utm_medium=cpc&utm_campaign=padrao&dn_campanha_id=42566701&dn_campanha_nome=42566701&dn_angulo=move360_dores_articulacoes&dn_destino_tipo=move360_vsl&dn_destino=move360_adv01&dn_ad_tipo=move360_video&tb_campaign_id=42566701&tb_publisher=r7-r7com&tb_site_id=1191250&tb_ad=Artrite%3A%C2%A0A+maneira+mais+r%C3%A1pida+para+melhorar+as+dores+articulares&tb_creative=http%3A%2F%2Fcdn.taboola.com%2Flibtrc%2Fstatic%2Fthumbnails%2F2886cf5126e3eb86acc94df3c0ce88b0.png&tb_campaign_item_id=4078008418&tb_campaign_name=%5Bmove%5D%5Bescala%5D%5Bdesktop%5D%5Bblacklist%5D%5Badv01%5D%5B01-10%5D%5Bcpc%5D%5Brodando%5D%5Bsfunnel%3D12509%5D&tb_cpc={cpc}&tb_campaign_site=42566701-1191250&tb_click_id=GiDRej5YRZbKNUlQNCT59FaX6_lsLBkMFCNFHxoZ6hLCvSC8tUoopJbXwrKyn5UoMNLaSA&tblci=GiDRej5YRZbKNUlQNCT59FaX6_lsLBkMFCNFHxoZ6hLCvSC8tUoopJbXwrKyn5UoMNLaSA#tblciGiDRej5YRZbKNUlQNCT59FaX6_lsLBkMFCNFHxoZ6hLCvSC8tUoopJbXwrKyn5UoMNLaSA\n",
      "ERROR:news_summarizer.crawler.newspaper_website:Failed to append hyperlink with title 'Entrar' and URL '/account/login/'. Validation error: 1 validation error for Link\n",
      "url\n",
      "  Input should be a valid URL, relative URL without a base [type=url_parsing, input_value='/account/login/', input_type=str]\n",
      "    For further information visit https://errors.pydantic.dev/2.8/v/url_parsing\n",
      "INFO:news_summarizer.crawler.newspaper_website:Found 821 hyperlinks on 'https://www.r7.com/'\n"
     ]
    }
   ],
   "source": [
    "from news_summarizer.crawler import CrawlerExecutor, crawler_registry\n",
    "\n",
    "executor = CrawlerExecutor(crawler_registry)\n",
    "metadata = executor.run([   \n",
    "    'https://g1.globo.com/',\n",
    "    'https://bandnewstv.uol.com.br/',\n",
    "    'https://www.r7.com/',\n",
    "])"
   ]
  }
 ],
 "metadata": {
  "kernelspec": {
   "display_name": "news_summarizer",
   "language": "python",
   "name": "python3"
  },
  "language_info": {
   "codemirror_mode": {
    "name": "ipython",
    "version": 3
   },
   "file_extension": ".py",
   "mimetype": "text/x-python",
   "name": "python",
   "nbconvert_exporter": "python",
   "pygments_lexer": "ipython3",
   "version": "3.11.8"
  }
 },
 "nbformat": 4,
 "nbformat_minor": 2
}
