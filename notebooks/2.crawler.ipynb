{
 "cells": [
  {
   "cell_type": "code",
   "execution_count": 1,
   "metadata": {},
   "outputs": [],
   "source": [
    "%load_ext autoreload\n",
    "%autoreload 2"
   ]
  },
  {
   "cell_type": "code",
   "execution_count": 2,
   "metadata": {},
   "outputs": [],
   "source": [
    "import re\n",
    "import time\n",
    "from bs4 import BeautifulSoup\n",
    "from news_summarizer.webdriver import WebDriverFactory, ShutilBrowserLocator\n",
    "from selenium.webdriver.common.by import By\n",
    "from selenium.webdriver.support.ui import WebDriverWait\n",
    "from selenium.webdriver.support import expected_conditions as EC\n",
    "\n",
    "URL = 'https://g1.globo.com/ultimas-noticias/'\n"
   ]
  },
  {
   "cell_type": "code",
   "execution_count": 3,
   "metadata": {},
   "outputs": [],
   "source": [
    "from abc import ABC, abstractmethod\n",
    "import numpy as np\n",
    "\n",
    "\n",
    "class BaseCrawler(ABC):\n",
    "    @abstractmethod\n",
    "    def extract(self, link: str, **kwargs) -> None:\n",
    "        raise NotImplementedError\n",
    "\n",
    "class BaseSeleniumCrawler(BaseCrawler, ABC):\n",
    "    def __init__(self, scroll_limit: int = 5) -> None:\n",
    "        self.driver = WebDriverFactory(ShutilBrowserLocator()).get_webdriver() \n",
    "        self.scroll_limit = scroll_limit\n",
    "        self.soup = None\n",
    "\n",
    "    def scroll_page(self) -> None:\n",
    "        current_scroll = 0\n",
    "        veja_mais_count = 0\n",
    "        last_page_number = 0\n",
    "        page_number = 0\n",
    "\n",
    "        while True:\n",
    "            self.driver.execute_script(\"window.scrollTo(0, document.body.scrollHeight);\")\n",
    "            time.sleep(np.random.randint(2, 5))            \n",
    "            # Wait for the \"Veja mais\" link to appear with the next page number\n",
    "            try:\n",
    "    \n",
    "                see_more_button = WebDriverWait(self.driver, 10).until(\n",
    "                    EC.element_to_be_clickable((By.XPATH, \"/html/body/div[2]/main/div[3]/div[2]/div/div/div/div/div/div/div/div[3]/a\"))\n",
    "                )\n",
    "                href = see_more_button.get_attribute('href')\n",
    "                page_number = self._extract_page_number(href)\n",
    "\n",
    "                print(\"Page number: \", page_number)\n",
    "\n",
    "                print(f\"see_more found {veja_mais_count} times: {href}\")\n",
    "                \n",
    "                if page_number > last_page_number:\n",
    "                    veja_mais_count += 1\n",
    "                    last_page_number = page_number\n",
    "                    \n",
    "                    if veja_mais_count >= 6:\n",
    "                        break\n",
    "                see_more_button.click()\n",
    "            except Exception as e:\n",
    "                print(\"Veja mais link not found yet, scrolling more...\")\n",
    "\n",
    "            print(\"Current iteration: \", current_scroll)\n",
    "            \n",
    "            \n",
    "    def _extract_page_number(self, url):\n",
    "        match = re.search(r'pagina-(\\d+)', url)\n",
    "        if match:\n",
    "            return int(match.group(1))\n",
    "        return None\n",
    "\n",
    "class G1Crawler(BaseSeleniumCrawler):\n",
    "    def __init__(self, scroll_limit: int = 5) -> None:\n",
    "        super().__init__(scroll_limit=scroll_limit)\n",
    "        self.links = None\n",
    "    \n",
    "    def extract(self, link: str, **kwargs) -> None:\n",
    "        self.driver.get(link)\n",
    "        time.sleep(5)\n",
    "        self.scroll_page()\n",
    "        self.soup = BeautifulSoup(self.driver.page_source, \"html.parser\")\n",
    "        self.links = self.soup.find_all('a', class_='feed-post-link gui-color-primary gui-color-hover', href=True) # self.soup.find_all('a', href=True)\n"
   ]
  },
  {
   "cell_type": "code",
   "execution_count": 4,
   "metadata": {},
   "outputs": [
    {
     "name": "stdout",
     "output_type": "stream",
     "text": [
      "Creating the instance\n",
      "Page number:  4\n",
      "see_more found 0 times: https://g1.globo.com/ultimas-noticias/index/feed/pagina-4.ghtml\n",
      "Veja mais link not found yet, scrolling more...\n",
      "Current iteration:  0\n",
      "Page number:  5\n",
      "see_more found 1 times: https://g1.globo.com/ultimas-noticias/index/feed/pagina-5.ghtml\n",
      "Current iteration:  0\n",
      "Page number:  6\n",
      "see_more found 2 times: https://g1.globo.com/ultimas-noticias/index/feed/pagina-6.ghtml\n",
      "Current iteration:  0\n",
      "Page number:  7\n",
      "see_more found 3 times: https://g1.globo.com/ultimas-noticias/index/feed/pagina-7.ghtml\n",
      "Current iteration:  0\n",
      "Page number:  7\n",
      "see_more found 4 times: https://g1.globo.com/ultimas-noticias/index/feed/pagina-7.ghtml\n",
      "Current iteration:  0\n",
      "Page number:  8\n",
      "see_more found 4 times: https://g1.globo.com/ultimas-noticias/index/feed/pagina-8.ghtml\n",
      "Current iteration:  0\n",
      "Page number:  9\n",
      "see_more found 5 times: https://g1.globo.com/ultimas-noticias/index/feed/pagina-9.ghtml\n"
     ]
    }
   ],
   "source": [
    "my_crawler = G1Crawler()\n",
    "my_crawler.extract(link=URL)"
   ]
  },
  {
   "cell_type": "code",
   "execution_count": 5,
   "metadata": {},
   "outputs": [
    {
     "data": {
      "text/plain": [
       "[<a class=\"feed-post-link gui-color-primary gui-color-hover\" href=\"https://g1.globo.com/sp/sao-paulo/noticia/2024/11/25/2-em-cada-10-mulheres-ja-foram-ameacadas-de-morte-pelo-parceiro-namorado-ou-ex-diz-pesquisa.ghtml\"><p elementtiming=\"text-csr\">2 em cada 10 mulheres já foram ameaçadas de morte pelo parceiro, namorado ou ex, diz pesquisa</p></a>,\n",
       " <a class=\"feed-post-link gui-color-primary gui-color-hover\" href=\"https://g1.globo.com/trabalho-e-carreira/noticia/2024/11/25/13o-salario-parcela-unica-ou-1a-parte-devem-ser-pagas-ate-sexta-feira.ghtml\"><p elementtiming=\"text-csr\">13º salário: parcela única ou 1ª parte devem ser pagas até sexta-feira; veja o que fazer se você não receber</p></a>,\n",
       " <a class=\"feed-post-link gui-color-primary gui-color-hover\" href=\"https://g1.globo.com/politica/noticia/2024/11/25/inquerito-do-golpe-apos-receber-relatorio-da-pf-cabera-a-pgr-definir-destino-da-investigacao-contra-bolsonaro-e-aliados.ghtml\"><p elementtiming=\"text-csr\">Inquérito do golpe: após receber relatório da PF, caberá à PGR definir destino da investigação contra Bolsonaro e aliados</p></a>,\n",
       " <a class=\"feed-post-link gui-color-primary gui-color-hover\" href=\"https://g1.globo.com/turismo-e-viagem/noticia/2024/11/25/premio-de-melhor-cruzeiro-do-mundo-vai-para-icon-of-the-seas-navio-que-tem-5-vezes-o-peso-do-titanic.ghtml\"><p elementtiming=\"text-csr\">Prêmio de melhor cruzeiro do mundo vai para Icon of The Seas, navio que tem 5 vezes o peso do Titanic</p></a>,\n",
       " <a class=\"feed-post-link gui-color-primary gui-color-hover\" href=\"https://g1.globo.com/al/alagoas/noticia/2024/11/25/video-mostra-resgate-e-desespero-de-sobreviventes-do-acidente-com-onibus-que-matou-17-em-al.ghtml\"><p elementtiming=\"text-csr\">VÍDEO mostra resgate e desespero de sobreviventes do acidente com ônibus que matou 17 em AL</p></a>,\n",
       " <a class=\"feed-post-link gui-color-primary gui-color-hover\" href=\"https://g1.globo.com/mundo/noticia/2024/11/25/quem-e-yamandu-orsi-pupilo-de-mujica-que-sera-o-proximo-do-presidente-do-uruguai.ghtml\"><p elementtiming=\"text-csr\">Quem é Yamandú Orsi, pupilo de Mujica que será o próximo do presidente do Uruguai </p></a>,\n",
       " <a class=\"feed-post-link gui-color-primary gui-color-hover\" href=\"https://g1.globo.com/fantastico/noticia/2024/11/24/anitta-repensa-vida-e-sucesso-vontade-de-de-transcender-profissionalmente.ghtml\"><p elementtiming=\"text-csr\">Anitta repensa vida e sucesso: 'Vontade de transcender profissionalmente'</p></a>,\n",
       " <a class=\"feed-post-link gui-color-primary gui-color-hover\" href=\"https://g1.globo.com/fantastico/noticia/2024/11/24/50-and-uns-angelica-conversa-sobre-sexo-com-lazaro-ramos-antonio-fagundes-e-gil-do-vigor.ghtml\"><p elementtiming=\"text-csr\">50 &amp; Uns: Angélica conversa sobre sexo com Lázaro Ramos, Antônio Fagundes e Gil do Vigor</p></a>,\n",
       " <a class=\"feed-post-link gui-color-primary gui-color-hover\" href=\"https://g1.globo.com/fantastico/podcast/isso-e-fantastico/noticia/2024/11/24/isso-e-fantastico-anitta-em-uma-conversa-sobre-a-vida-a-carreira-e-o-sucesso.ghtml\"><p elementtiming=\"text-csr\">Isso é Fantástico — Anitta em uma conversa sobre a vida, a carreira e o sucesso</p></a>,\n",
       " <a class=\"feed-post-link gui-color-primary gui-color-hover\" href=\"https://g1.globo.com/pop-arte/musica/blog/mauro-ferreira/post/2024/11/24/respeito-e-bom-e-frejat-gosta.ghtml\"><p elementtiming=\"text-csr\">Respeito é bom e Frejat gosta...</p></a>,\n",
       " <a class=\"feed-post-link gui-color-primary gui-color-hover\" href=\"https://g1.globo.com/fantastico/noticia/2024/11/24/tenho-muito-orgulho-de-ter-saido-de-comunidade-de-periferia-e-me-tornar-o-artista-que-eu-tornei-diz-belo-pela-1a-vez-no-palco-do-fantastico.ghtml\"><p elementtiming=\"text-csr\">\n",
       " ‘Tenho muito orgulho de ter saído de comunidade e me tornar o artista que eu tornei’, diz Belo pela 1ª vez no palco do Fantástico </p></a>,\n",
       " <a class=\"feed-post-link gui-color-primary gui-color-hover\" href=\"https://g1.globo.com/fantastico/noticia/2024/11/24/exclusivo-fantastico-tem-acesso-as-cameras-de-seguranca-que-registraram-morte-de-advogada-em-mg.ghtml\"><p elementtiming=\"text-csr\">EXCLUSIVO: Fantástico tem acesso às câmeras de segurança que registraram morte de advogada em MG</p></a>,\n",
       " <a class=\"feed-post-link gui-color-primary gui-color-hover\" href=\"https://g1.globo.com/fantastico/noticia/2024/11/24/viagem-de-maju-coutinho-pelo-continente-africano-chega-ao-ultimo-capitulo.ghtml\"><p elementtiming=\"text-csr\">Viagem de Maju Coutinho pelo continente africano chega ao último capítulo</p></a>,\n",
       " <a class=\"feed-post-link gui-color-primary gui-color-hover\" href=\"https://g1.globo.com/mundo/noticia/2024/11/24/eleicao-no-uruguai-resultados-oficiais.ghtml\"><p elementtiming=\"text-csr\">Esquerdista Yamandú Orsi é eleito presidente do Uruguai e derrota conservador Álvaro Delgado</p></a>,\n",
       " <a class=\"feed-post-link gui-color-primary gui-color-hover\" href=\"https://g1.globo.com/fantastico/noticia/2024/11/24/fantastico-vai-ao-havai-para-conhecer-o-mundo-de-moana-2.ghtml\"><p elementtiming=\"text-csr\">Fantástico vai ao Havaí para conhecer o mundo de ‘Moana 2’</p></a>,\n",
       " <a class=\"feed-post-link gui-color-primary gui-color-hover\" href=\"https://g1.globo.com/fantastico/noticia/2024/11/24/isabel-filardis-lanca-autobiografia-onde-fala-sobre-criacao-dos-filhos-neurodiversos-saude-e-carreira-eu-gosto-de-viver.ghtml\"><p elementtiming=\"text-csr\">Isabel Filardis lança autobiografia onde fala sobre criação do filhos neurodiversos, saúde e carreira: 'Eu gosto de viver'</p></a>,\n",
       " <a class=\"feed-post-link gui-color-primary gui-color-hover\" href=\"https://g1.globo.com/fantastico/noticia/2024/11/24/trafico-legal-de-axolotes-preocupa-o-ibama-e-pode-levar-a-desequilibrio-ambiental.ghtml\"><p elementtiming=\"text-csr\">Tráfico ilegal de axolotes preocupa o Ibama e pode levar a desequilíbrio ambiental</p></a>,\n",
       " <a class=\"feed-post-link gui-color-primary gui-color-hover\" href=\"https://g1.globo.com/fantastico/noticia/2024/11/24/vacina-brasileira-contra-cancer-de-prostata-comeca-a-ser-testada-nos-eua.ghtml\"><p elementtiming=\"text-csr\">Vacina brasileira contra câncer de próstata começa a ser testada nos EUA</p></a>,\n",
       " <a class=\"feed-post-link gui-color-primary gui-color-hover\" href=\"https://g1.globo.com/fantastico/noticia/2024/11/24/mentes-digitais-a-era-da-inteligencia-grande-salto-da-computacao-comecou-com-os-videogames.ghtml\"><p elementtiming=\"text-csr\">Mentes Digitais - A Era da Inteligência Artificial: grande salto da computação começou com os videogames</p></a>,\n",
       " <a class=\"feed-post-link gui-color-primary gui-color-hover\" href=\"https://g1.globo.com/fantastico/noticia/2024/11/24/com-mais-eleitores-que-habitantes-eleicao-em-mangaratiba-e-investigada.ghtml\"><p elementtiming=\"text-csr\">Com mais eleitores que habitantes, eleição em Mangaratiba é investigada</p></a>,\n",
       " <a class=\"feed-post-link gui-color-primary gui-color-hover\" href=\"https://g1.globo.com/mundo/noticia/2024/11/24/esquerdista-yamandu-orsi-vence-eleicao-presidencial-no-uruguai-apontam-projecoes.ghtml\"><p elementtiming=\"text-csr\">Projeções apontam esquerdista Yamandú Orsi como vencedor de eleição presidencial no Uruguai</p></a>,\n",
       " <a class=\"feed-post-link gui-color-primary gui-color-hover\" href=\"https://g1.globo.com/fantastico/noticia/2024/11/24/fantastico-audios-exclusivos-mostram-militares-falando-sobre-trama-golpista.ghtml\"><p elementtiming=\"text-csr\">Fantástico: áudios exclusivos mostram militares falando sobre trama golpista</p></a>,\n",
       " <a class=\"feed-post-link gui-color-primary gui-color-hover\" href=\"https://g1.globo.com/sp/santos-regiao/noticia/2024/11/24/elefante-marinho-do-sul-femea-que-encalhou-em-praia-volta-para-o-mar-apos-uma-semana-video.ghtml\"><p elementtiming=\"text-csr\">Elefante-marinho-do-sul fêmea que encalhou em praia volta para o mar após uma semana; VÍDEO </p></a>,\n",
       " <a class=\"feed-post-link gui-color-primary gui-color-hover\" href=\"https://g1.globo.com/sp/vale-do-paraiba-regiao/noticia/2024/11/24/cdhu-faz-campanha-para-regularizar-contratos-em-atraso-de-62-mil-familias-no-vale-do-paraiba.ghtml\"><p elementtiming=\"text-csr\">CDHU faz campanha para regularizar contratos em atraso de 6,2 mil famílias no Vale do Paraíba</p></a>,\n",
       " <a class=\"feed-post-link gui-color-primary gui-color-hover\" href=\"https://g1.globo.com/pa/para/noticia/2024/11/24/barco-naufraga-com-quatro-pessoas-no-para-uma-esta-desaparecida-e-policia-investiga.ghtml\"><p elementtiming=\"text-csr\">Barco naufraga com quatro pessoas no Pará; uma está desaparecida e polícia investiga </p></a>,\n",
       " <a class=\"feed-post-link gui-color-primary gui-color-hover\" href=\"https://g1.globo.com/ba/bahia/noticia/2024/11/24/polones-e-encontrado-morto-em-praia-marau.ghtml\"><p elementtiming=\"text-csr\">Polonês é encontrado morto em praia no baixo sul da Bahia; polícia suspeita de afogamento</p></a>,\n",
       " <a class=\"feed-post-link gui-color-primary gui-color-hover\" href=\"https://g1.globo.com/am/amazonas/noticia/2024/11/24/idoso-e-morto-a-tiros-apos-discussao-por-vaga-de-estacionamento-em-manaus.ghtml\"><p elementtiming=\"text-csr\">Idoso é morto a tiros após discussão por vaga de estacionamento em Manaus</p></a>,\n",
       " <a class=\"feed-post-link gui-color-primary gui-color-hover\" href=\"https://g1.globo.com/pr/parana/noticia/2024/11/24/apos-registrar-36oc-no-domingo-parana-vai-iniciar-semana-com-calor-e-terminar-com-chuva-diz-simepar-veja-previsao-do-tempo.ghtml\"><p elementtiming=\"text-csr\">Após registrar 36ºC no domingo, Paraná vai iniciar semana com calor e terminar com chuva, diz Simepar; veja previsão do tempo </p></a>,\n",
       " <a class=\"feed-post-link gui-color-primary gui-color-hover\" href=\"https://g1.globo.com/mundo/noticia/2024/11/24/ucrania-mostra-fragmentos-de-novo-missil-russo-apos-bombardeio-em-dnipro.ghtml\"><p elementtiming=\"text-csr\">Ucrânia mostra fragmentos de novo míssil russo após bombardeio em Dnipro</p></a>,\n",
       " <a class=\"feed-post-link gui-color-primary gui-color-hover\" href=\"https://g1.globo.com/go/goias/noticia/2024/11/24/jovem-morre-afogado-apos-lancha-naufragar-em-rio-de-goias.ghtml\"><p elementtiming=\"text-csr\">Jovem morre afogado após lancha naufragar em rio de Goiás</p></a>,\n",
       " <a class=\"feed-post-link gui-color-primary gui-color-hover\" href=\"https://g1.globo.com/rj/rio-de-janeiro/noticia/2024/11/24/nego-do-borel-se-envolve-em-briga-no-rio.ghtml\"><p elementtiming=\"text-csr\">Nego do Borel se envolve em briga, e PM usa spray de efeito moral para conter; VÍDEO</p></a>,\n",
       " <a class=\"feed-post-link gui-color-primary gui-color-hover\" href=\"https://g1.globo.com/mundo/noticia/2024/11/24/a-tragica-morte-de-turistas-no-laos-por-envenenamento-por-metanol-apos-festas-regadas-a-bebida.ghtml\"><p elementtiming=\"text-csr\">A trágica morte de turistas no Laos por envenenamento por metanol após festas regadas a bebida</p></a>,\n",
       " <a class=\"feed-post-link gui-color-primary gui-color-hover\" href=\"https://g1.globo.com/sp/sao-jose-do-rio-preto-aracatuba/noticia/2024/11/24/dupla-furta-ambulancia-bate-em-outros-veiculos-da-saude-e-acaba-presa-em-rubineia.ghtml\"><p elementtiming=\"text-csr\">Dupla furta ambulância, bate em outros veículos da Saúde e acaba presa em Rubinéia</p></a>,\n",
       " <a class=\"feed-post-link gui-color-primary gui-color-hover\" href=\"https://g1.globo.com/mg/minas-gerais/noticia/2024/11/24/prefeito-de-belo-horizonte-vai-permanecer-internado-em-hospital-para-realizacao-de-exames.ghtml\"><p elementtiming=\"text-csr\">Prefeito de Belo Horizonte vai permanecer internado em hospital para realização de exames </p></a>,\n",
       " <a class=\"feed-post-link gui-color-primary gui-color-hover\" href=\"https://g1.globo.com/am/amazonas/noticia/2024/11/24/centro-de-manaus-recebe-acao-de-limpeza-no-neste-domingo-24.ghtml\"><p elementtiming=\"text-csr\">Centro de Manaus recebe ação de limpeza no  neste domingo (24)</p></a>,\n",
       " <a class=\"feed-post-link gui-color-primary gui-color-hover\" href=\"https://g1.globo.com/am/amazonas/noticia/2024/11/24/cerca-de-650-kg-de-cocaina-sao-apreendidos-em-tanques-de-petroleo-escondidos-em-balsa-no-am.ghtml\"><p elementtiming=\"text-csr\">Quase 650 kg de cocaína são apreendidos em tanques de petróleo escondidos em balsa no AM</p></a>,\n",
       " <a class=\"feed-post-link gui-color-primary gui-color-hover\" href=\"https://g1.globo.com/sp/sao-jose-do-rio-preto-aracatuba/noticia/2024/11/24/policia-prende-suspeito-de-tentar-roubar-e-estuprar-mulher-em-avenida-de-birigui.ghtml\"><p elementtiming=\"text-csr\">Polícia prende suspeito de tentar roubar e estuprar mulher em avenida de Birigui</p></a>,\n",
       " <a class=\"feed-post-link gui-color-primary gui-color-hover\" href=\"https://g1.globo.com/fantastico/podcast/isso-e-fantastico/noticia/2024/11/24/isso-e-fantastico-diario-de-bordo-que-africa-e-essa-quarto-episodio.ghtml\"><p elementtiming=\"text-csr\">Isso é Fantástico — diário de bordo ‘Que África é Essa?’, quarto episódio </p></a>,\n",
       " <a class=\"feed-post-link gui-color-primary gui-color-hover\" href=\"https://g1.globo.com/sp/itapetininga-regiao/noticia/2024/11/24/almir-sater-faz-show-com-entrada-gratuita-em-itapetininga.ghtml\"><p elementtiming=\"text-csr\">Almir Sater faz show com entrada gratuita em Itapetininga</p></a>,\n",
       " <a class=\"feed-post-link gui-color-primary gui-color-hover\" href=\"https://g1.globo.com/se/sergipe/noticia/2024/11/24/aracaju-tem-alerta-de-chuva-moderada-com-possibilidade-de-raios.ghtml\"><p elementtiming=\"text-csr\">Aracaju tem alerta de chuva moderada com possibilidade de raios </p></a>,\n",
       " <a class=\"feed-post-link gui-color-primary gui-color-hover\" href=\"https://g1.globo.com/es/espirito-santo/noticia/2024/11/24/homem-e-preso-apos-abordagem-em-baile-clandestino-no-es-familiares-denunciam-agressao.ghtml\"><p elementtiming=\"text-csr\">Homem é preso após abordagem em baile clandestino no ES; familiares denunciam agressão</p></a>,\n",
       " <a class=\"feed-post-link gui-color-primary gui-color-hover\" href=\"https://g1.globo.com/sp/bauru-marilia/noticia/2024/11/24/processo-seletivo-para-vagas-de-estagio-em-comunicacao-social-no-procon-sp.ghtml\"><p elementtiming=\"text-csr\">Procon-SP tem processo seletivo aberto para vagas de estágio em comunicação social</p></a>]"
      ]
     },
     "execution_count": 5,
     "metadata": {},
     "output_type": "execute_result"
    }
   ],
   "source": [
    "my_crawler.links"
   ]
  },
  {
   "cell_type": "code",
   "execution_count": 6,
   "metadata": {},
   "outputs": [
    {
     "data": {
      "text/plain": [
       "' driver.get(URL)\\ntime.sleep(10)\\ncurrent_scroll = 0\\nlast_height = driver.execute_script(\"return document.body.scrollHeight\")\\nveja_mais_count = 0\\nlast_page_number = 0\\n\\nwhile True:\\n    driver.execute_script(\"window.scrollTo(0, document.body.scrollHeight);\")\\n    time.sleep(2)\\n    \\n    # Wait for the \"Veja mais\" link to appear with the next page number\\n    try:\\n        veja_mais_link = WebDriverWait(driver, 10).until(\\n            EC.presence_of_element_located((By.XPATH, f\"//div[@class=\\'load-more gui-color-primary-bg\\']/a[contains(@href, \\'pagina-\\')]\"))\\n        )\\n        href = veja_mais_link.get_attribute(\\'href\\')\\n        page_number = extract_page_number(href)\\n        print(\"Page number: \", page_number)\\n        print(f\"Veja mais link found {veja_mais_count} times: {href}\")\\n        \\n        if page_number > last_page_number:\\n            veja_mais_count += 1\\n            last_page_number = page_number\\n            \\n            if veja_mais_count >= 6:\\n                break\\n        veja_mais_link.click()\\n    except Exception as e:\\n        print(\"Veja mais link not found yet, scrolling more...\")\\n\\n    new_height = driver.execute_script(\"return document.body.scrollHeight\")\\n    print(current_scroll, new_height)\\n    #if new_height == last_height or (5 and current_scroll >= 5):\\n    #    break\\n    last_height = new_height\\n    current_scroll += 1 '"
      ]
     },
     "execution_count": 6,
     "metadata": {},
     "output_type": "execute_result"
    }
   ],
   "source": [
    "\"\"\" driver.get(URL)\n",
    "time.sleep(10)\n",
    "current_scroll = 0\n",
    "last_height = driver.execute_script(\"return document.body.scrollHeight\")\n",
    "veja_mais_count = 0\n",
    "last_page_number = 0\n",
    "\n",
    "while True:\n",
    "    driver.execute_script(\"window.scrollTo(0, document.body.scrollHeight);\")\n",
    "    time.sleep(2)\n",
    "    \n",
    "    # Wait for the \"Veja mais\" link to appear with the next page number\n",
    "    try:\n",
    "        veja_mais_link = WebDriverWait(driver, 10).until(\n",
    "            EC.presence_of_element_located((By.XPATH, f\"//div[@class='load-more gui-color-primary-bg']/a[contains(@href, 'pagina-')]\"))\n",
    "        )\n",
    "        href = veja_mais_link.get_attribute('href')\n",
    "        page_number = extract_page_number(href)\n",
    "        print(\"Page number: \", page_number)\n",
    "        print(f\"Veja mais link found {veja_mais_count} times: {href}\")\n",
    "        \n",
    "        if page_number > last_page_number:\n",
    "            veja_mais_count += 1\n",
    "            last_page_number = page_number\n",
    "            \n",
    "            if veja_mais_count >= 6:\n",
    "                break\n",
    "        veja_mais_link.click()\n",
    "    except Exception as e:\n",
    "        print(\"Veja mais link not found yet, scrolling more...\")\n",
    "\n",
    "    new_height = driver.execute_script(\"return document.body.scrollHeight\")\n",
    "    print(current_scroll, new_height)\n",
    "    #if new_height == last_height or (5 and current_scroll >= 5):\n",
    "    #    break\n",
    "    last_height = new_height\n",
    "    current_scroll += 1 \"\"\""
   ]
  }
 ],
 "metadata": {
  "kernelspec": {
   "display_name": "news_summarizer",
   "language": "python",
   "name": "python3"
  },
  "language_info": {
   "codemirror_mode": {
    "name": "ipython",
    "version": 3
   },
   "file_extension": ".py",
   "mimetype": "text/x-python",
   "name": "python",
   "nbconvert_exporter": "python",
   "pygments_lexer": "ipython3",
   "version": "3.11.8"
  }
 },
 "nbformat": 4,
 "nbformat_minor": 2
}
