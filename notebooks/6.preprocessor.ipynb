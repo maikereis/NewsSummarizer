{
 "cells": [
  {
   "cell_type": "code",
   "execution_count": 1,
   "metadata": {},
   "outputs": [],
   "source": [
    "%load_ext autoreload\n",
    "%autoreload 2"
   ]
  },
  {
   "cell_type": "code",
   "execution_count": null,
   "metadata": {},
   "outputs": [],
   "source": [
    "from news_summarizer.domain.documents import Article"
   ]
  },
  {
   "cell_type": "code",
   "execution_count": 3,
   "metadata": {},
   "outputs": [],
   "source": [
    "import re\n",
    "import unicodedata\n",
    "\n",
    "class TextTransformation:\n",
    "    def apply(self, text: str) -> str:\n",
    "        raise NotImplementedError\n",
    "\n",
    "class StripWhitespace(TextTransformation):\n",
    "    def apply(self, text: str) -> str:\n",
    "        return text.strip()\n",
    "\n",
    "class RemoveEmojis(TextTransformation):\n",
    "    def apply(self, text: str) -> str:\n",
    "        emoji_pattern = re.compile(\n",
    "            \"[\"\n",
    "            u\"\\U0001F600-\\U0001F64F\"  # emoticons\n",
    "            u\"\\U0001F300-\\U0001F5FF\"  # symbols & pictographs\n",
    "            u\"\\U0001F680-\\U0001F6FF\"  # transport & map symbols\n",
    "            u\"\\U0001F1E0-\\U0001F1FF\"  # flags (iOS)\n",
    "            \"]+\", flags=re.UNICODE)\n",
    "        return emoji_pattern.sub(r'', text)\n",
    "\n",
    "class RemoveNonAsciiExceptAccents(TextTransformation):\n",
    "    def apply(self, text: str) -> str:\n",
    "        return ''.join(\n",
    "            c for c in text\n",
    "            if ord(c) < 128 or unicodedata.category(c).startswith('L')\n",
    "        )\n",
    "\n",
    "class ReplaceMultipleSpaces(TextTransformation): \n",
    "    def apply(self, text: str) -> str: \n",
    "        return re.sub(r'\\s+', ' ', text)\n",
    "\n",
    "class TextPipeline:\n",
    "    def __init__(self):\n",
    "        self.transformations = []\n",
    "\n",
    "    def add_transformation(self, transformation: TextTransformation):\n",
    "        self.transformations.append(transformation)\n",
    "\n",
    "    def execute(self, text: str) -> str:\n",
    "        for transformation in self.transformations:\n",
    "            text = transformation.apply(text)\n",
    "        return text\n",
    "\n",
    "# Example usage\n",
    "pipeline = TextPipeline()\n",
    "pipeline.add_transformation(StripWhitespace())\n",
    "pipeline.add_transformation(RemoveEmojis())\n",
    "pipeline.add_transformation(RemoveNonAsciiExceptAccents())\n",
    "pipeline.add_transformation(ReplaceMultipleSpaces())"
   ]
  },
  {
   "cell_type": "code",
   "execution_count": null,
   "metadata": {},
   "outputs": [],
   "source": [
    "for i, article in enumerate(Article.bulk_find(**{})):\n",
    "    transformed_text = pipeline.execute(article.content )\n",
    "    print(i, transformed_text)"
   ]
  }
 ],
 "metadata": {
  "kernelspec": {
   "display_name": "news_summarizer",
   "language": "python",
   "name": "python3"
  },
  "language_info": {
   "codemirror_mode": {
    "name": "ipython",
    "version": 3
   },
   "file_extension": ".py",
   "mimetype": "text/x-python",
   "name": "python",
   "nbconvert_exporter": "python",
   "pygments_lexer": "ipython3",
   "version": "3.11.8"
  }
 },
 "nbformat": 4,
 "nbformat_minor": 2
}
