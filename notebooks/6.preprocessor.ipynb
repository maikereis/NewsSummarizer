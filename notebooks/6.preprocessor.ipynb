{
 "cells": [
  {
   "cell_type": "code",
   "execution_count": 77,
   "metadata": {},
   "outputs": [
    {
     "name": "stdout",
     "output_type": "stream",
     "text": [
      "The autoreload extension is already loaded. To reload it, use:\n",
      "  %reload_ext autoreload\n"
     ]
    }
   ],
   "source": [
    "%load_ext autoreload\n",
    "%autoreload 2"
   ]
  },
  {
   "cell_type": "code",
   "execution_count": 78,
   "metadata": {},
   "outputs": [],
   "source": [
    "from news_summarizer.domain.documents import Article\n",
    "from news_summarizer.domain.clean_documents import CleanedArticle"
   ]
  },
  {
   "cell_type": "code",
   "execution_count": 79,
   "metadata": {},
   "outputs": [],
   "source": [
    "import re\n",
    "import unicodedata\n",
    "\n",
    "class TextTransformation:\n",
    "    def apply(self, text: str) -> str:\n",
    "        raise NotImplementedError\n",
    "\n",
    "class StripWhitespace(TextTransformation):\n",
    "    def apply(self, text: str) -> str:\n",
    "        return text.strip()\n",
    "\n",
    "class RemoveEmojis(TextTransformation):\n",
    "    def apply(self, text: str) -> str:\n",
    "        emoji_pattern = re.compile(\n",
    "            \"[\"\n",
    "            u\"\\U0001F600-\\U0001F64F\"  # emoticons\n",
    "            u\"\\U0001F300-\\U0001F5FF\"  # symbols & pictographs\n",
    "            u\"\\U0001F680-\\U0001F6FF\"  # transport & map symbols\n",
    "            u\"\\U0001F1E0-\\U0001F1FF\"  # flags (iOS)\n",
    "            \"]+\", flags=re.UNICODE)\n",
    "        return emoji_pattern.sub(r'', text)\n",
    "\n",
    "class RemoveNonAsciiExceptAccents(TextTransformation):\n",
    "    def apply(self, text: str) -> str:\n",
    "        return ''.join(\n",
    "            c for c in text\n",
    "            if ord(c) < 128 or unicodedata.category(c).startswith('L')\n",
    "        )\n",
    "\n",
    "class ReplaceMultipleSpaces(TextTransformation): \n",
    "    def apply(self, text: str) -> str: \n",
    "        return re.sub(r'\\s+', ' ', text)\n",
    "\n",
    "class TextPipeline:\n",
    "    def __init__(self):\n",
    "        self.transformations = []\n",
    "\n",
    "    def add_transformation(self, transformation: TextTransformation):\n",
    "        self.transformations.append(transformation)\n",
    "\n",
    "    def execute(self, text: str) -> str:\n",
    "        if text is None:\n",
    "            return ''\n",
    "        for transformation in self.transformations:\n",
    "            text = transformation.apply(text)\n",
    "        return text\n",
    "\n",
    "# Example usage\n",
    "pipeline = TextPipeline()\n",
    "pipeline.add_transformation(StripWhitespace())\n",
    "pipeline.add_transformation(RemoveEmojis())\n",
    "pipeline.add_transformation(RemoveNonAsciiExceptAccents())\n",
    "pipeline.add_transformation(ReplaceMultipleSpaces())"
   ]
  },
  {
   "cell_type": "code",
   "execution_count": 80,
   "metadata": {},
   "outputs": [],
   "source": [
    "document_list = list(Article.bulk_find(**{}))"
   ]
  },
  {
   "cell_type": "code",
   "execution_count": 81,
   "metadata": {},
   "outputs": [],
   "source": [
    "cleaned_documents_list = []\n",
    "\n",
    "for i, article in enumerate(document_list):\n",
    "    cleaned_article = CleanedArticle(\n",
    "        id=article.id,\n",
    "        title=pipeline.execute(article.title),\n",
    "        author=article.author,\n",
    "        content=pipeline.execute(article.content),\n",
    "        subtitle=pipeline.execute(article.subtitle),\n",
    "        publication_date=article.publication_date,\n",
    "        url=article.url\n",
    "    )\n",
    "\n",
    "    cleaned_documents_list.append(cleaned_article)"
   ]
  },
  {
   "cell_type": "code",
   "execution_count": 82,
   "metadata": {},
   "outputs": [],
   "source": [
    "import logging\n",
    "logging.basicConfig(level=logging.DEBUG)\n",
    "logger = logging.getLogger(__name__)"
   ]
  },
  {
   "cell_type": "code",
   "execution_count": 83,
   "metadata": {},
   "outputs": [
    {
     "name": "stderr",
     "output_type": "stream",
     "text": [
      "INFO:httpx:HTTP Request: PUT http://localhost:6333/collections/cleaned_articles/points?wait=true \"HTTP/1.1 200 OK\"\n"
     ]
    },
    {
     "data": {
      "text/plain": [
       "True"
      ]
     },
     "execution_count": 83,
     "metadata": {},
     "output_type": "execute_result"
    }
   ],
   "source": [
    "CleanedArticle.bulk_insert(cleaned_documents_list)"
   ]
  },
  {
   "cell_type": "code",
   "execution_count": 84,
   "metadata": {},
   "outputs": [
    {
     "name": "stderr",
     "output_type": "stream",
     "text": [
      "INFO:httpx:HTTP Request: POST http://localhost:6333/collections/cleaned_articles/points/scroll \"HTTP/1.1 200 OK\"\n"
     ]
    },
    {
     "data": {
      "text/plain": [
       "([CleanedArticle(id=UUID('0005fcb9-638b-4695-9319-f472568aad7d'), title='Lula está estável e conversando normalmente após cirurgia, diz médico', subtitle='Presidente teve funções neurológicas preservadas e procedimento decorre do acidente doméstico sofrido em 19 de outubro', author='Plínio Aguiar, do R7, em Brasília', publication_date=datetime.datetime(2024, 12, 10, 13, 15, 11, 788000), content='O presidente Luiz Inácio Lula da Silva tem quadro de saúde estável após a cirurgia realizada na madrugada desta terça-feira (10). De acordo com o médico Roberto Kalil Filho, o petista voltou do procedimento cirúrgico praticamente acordado e conversando normalmente. Não há, por enquanto, data de alta médica, mas a equipe fala em retorno a Brasília no início da próxima semana. Os profissionais clínicos destacam, ainda, que não há lesões cerebrais. O presidente foi submetido a uma cirurgia para drenagem do hematoma do sangramento no cérebro. O presidente evoluiu bem, já chegou da cirurgia praticamente acordado e encontra-se estável, conversando normalmente, se alimentando e está em observação pelos próximos dias, disse Kalil. O importante é que ele não teve lesão no cérebro, acrescentou. Em coletiva de imprensa, Kalil ressaltou que as funções neurológicas do presidente estão preservadas. Nada, nem alteração de movimento, nem nada. Ele está estável, destacou. A médica Ana Helena Germoglio disse que Lula estava lúcido quando chegou ao hospital na capita paulista. Da mesma forma que se encontra agora: lúcido, orientado, conversando, comendo. O petista sentiu dor de cabeça e indisposição durante a agenda da última segunda-feira (9). Na sequência, deu entrada em um hospital privado em Brasília e foi transferido para a unidade de São Paulo. Na capital paulista, passou por uma cirurgia de emergência para drenagem de um hematoma. O procedimento ocorreu sem intercorrências e Lula está bem e sob monitoramento em leito de UTI. De acordo com os médicos, a hemorragia de Lula decorre da queda sofrida no banheiro, no Palácio da Alvorada, em 19 de outubro. Na ocasião, o acidente doméstico resultou em um ferimento na parte de trás da cabeça, que exigiu cinco pontos de sutura. Após o episódio, diversas viagens internacionais foram canceladas por recomendação médica. O presidente tem 79 anos. Esse tipo de complicação pode acontecer, principalmente em pessoas de maior idade. E o que acontece é que a pessoa tem a queda, às vezes nem lembra e o hematoma pode aparecer meses depois. Como o presidente foi acompanhado, fez exames de rotina e conseguimos ver a evolução toda do hematoma, sendo diminuído e, com a queixa da dor de cabeça, fizemos exame e comparamos com o exame anterior, e aumentou... A gente fez o procedimento para que esse hematoma não comprima o cérebro, então fica sem sequela. O cérebro está livre de qualquer compressão ou lesão. O hematoma foi drenado totalmente, informou o médico Rogério Tuma.', url=Url('https://noticias.r7.com/brasilia/lula-esta-estavel-e-conversando-normalmente-apos-cirurgia-diz-medico-10122024/')),\n",
       "  CleanedArticle(id=UUID('0008a2ae-c434-43db-8c13-c518adda3917'), title='Saiba quem são os suspeitos de desvios milionários em contratos públicos na Bahia e outros estados', subtitle='PF cumpriu 15 mandados de prisão contra investigados em São Paulo, Goiás e cidades baianas.', author=None, publication_date=datetime.datetime(2024, 12, 10, 22, 9, 41, 774000), content='Desvio milionário de recursos públicos na Bahia Empresários, servidores públicos e até um vereador eleito estão entre os alvos da Operação Overclean, deflagrada pela Polícia Federal na manhã desta terça-feira (10). A organização criminosa é suspeita de fraudes licitatórias, desvios de recursos públicos, corrupção e lavagem de dinheiro, tendo movimentado aproximadamente R$ 1,4 bilhão. Desse montante, parte é proveniente de emendas parlamentares e contratos firmados com órgãos públicos apenas em 2024. O desvio ocorria por meio de contratos superfaturados firmados com o Departamento Nacional de Obras Contra as Secas (DNOCS). Os crimes apurados incluem corrupção ativa e passiva, peculato, fraude em licitações e contratos e lavagem de dinheiro. Os mandados foram cumpridos na Bahia, em São Paulo e em Goiás. Até o fim desta tarde, 15 tinham sido presas preventivamente e outras duas estavam foragidas. A PF também cumpriu 43 mandados de busca e apreensão e ordens de sequestro de bens nos estados. A decisão judicial da 2ª Vara Federal Criminal aponta o empresário Alex Rezende Parente como líder da organização criminosa. Além dele, seu irmão, o também empresário Fábio Rezende Parente, e o ex-coordenador do DNOCS, Lucas Maciel Lobão Vieira, seriam integrantes do \"núcleo central da organização\". Suposto líder da organização criminosa, Alex é sócio-proprietário das empresas Allpha Pavimentações e Serviços de Construções Ltda., Larclean Ambiental, Rezende Serviços Administrativos Ltda., FAP Participações Ltda., e Qualymulti Serviços EIRELI - ME. Ele é suspeito de fraudar licitações com o setor público. Segundo os investigadores, o homem era o responsável por coordenar a execução das fraudes em licitações, negociar diretamente com servidores públicos e organizar o pagamento de propinas. Fábio Rezende é suspeito de integrar organização criminosa acusada de desviar recursos públicos Foto: Reprodução/Redes Sociais Irmão de Alex, Fábio é também sócio-proprietário de empresas como Larclean, Allpha Pavimentações, FAP Participações LTDA., e Rezende Serviços Administrativos LTDA. Ele é apontado como integrante do \"núcleo central da organização\", atuando como executor financeiro da organização, realizando as transferências bancárias e os pagamentos de propinas. Ele é suspeito de utilizar contas bancárias em nomes de terceiros, como a da empresa fantasma Bra Teles Ltda. Lucas Lobão é suspeito de integrar organização criminosa acusada de desviar recursos públicos Foto: Reprodução/Redes Sociais Lucas é ex-coordenador estadual do Departamento Nacional de Obras Contra as Secas na Bahia (DNOCS). De acordo com a PF, ele é também gerenciador dos contratos firmados pela Allpha Pavimentações com o setor público e, enquanto trabalhava no DNOCS, seguia atuando nos bastidores em favor da empresa. Ele é descrito como mais um integrante do \"núcleo central da organização\", suspeito de financiar atividades ilícitas, definir diretrizes operacionais e exercer controle sobre os membros, \"promovendo ações criminosas de forma coordenada\". Lucas foi destituído do cargo no DNOCS em 22 de setembro de 2021 após um relatório da Controladoria-Geral da União (CGU) apontar um sobrepreço estimado em R$ 192.309.097,16 na compra de 470 mil reservatórios de água de polietileno. José Moura é suspeito de integrar organização criminosa acusada de desviar recursos públicos Foto: Reprodução/Redes Sociais Conhecido como \"Rei do Lixo\", José é um empresário do setor de limpeza urbana. Ele possui contratos com diversos municípios brasileiros, inclusive Salvador, por meio de suas empresas. A decisão aponta que o empresário tinha papel de liderança no esquema criminoso, junto com Alex Parente. O homem é suspeito de atuar na prospecção de contratos, \"com a cooptação de servidores mediante o pagamento de propina\". \"Segundo a representação, o investigado possui ampla rede de contatos e influência política capaz de interceder junto a autoridades públicas em favor dos interesses da organização, facilitando o andamento de contratos e o desbloqueio de pagamentos\", indica a decisão judicial. Ele teria \"facilidade de trânsito com os agentes públicos, dentre eles o secretário de Educação do Município de Salvador\". Francisco Manoel do Nascimento Neto, eleito vereador para o mandato 2025-2028 em Campo Formoso, pelo partido União Brasil, e primo do deputado Elmar Nascimento (União-BA). Antes de ser preso, Francisco tentou se livrar de dinheiro em espécie que mantinha em casa. Francisco Nascimento é suspeito de integrar organização criminosa acusada de desviar recursos públicos Foto: Reprodução/Redes Sociais Flávio Henrique de Lacerda Pimenta, agora ex-diretor geral da Secretaria Municipal de Educação (Smed) da capital baiana. Ele é suspeito de favorecer Alex Parente em uma licitação. Flávio Pimenta foi exonerado da Prefeitura de Salvador após ser preso no âmbito da Operação Overclean Foto: Reprodução/Prefeitura de Salvador Clebson Cruz de Oliveira, suspeito de fornecer apoio logístico à organização criminosa em Salvador, executando tarefas manuais como o saque de grandes quantias para pagamento de propina e a entrega desses valores em nome dos empresários. Kaliane Lomanto Bastos, coordenadora de Projetos, Execução e Controle na Secretaria de Infraestrutura e Meio Ambiente de Jequié. Ela é suspeita de receber R$ 48,7 mil de propina para liberar pagamentos retidos em contratos públicos firmados entre a empresa Allpha e a prefeitura. Kaliane Lomanto é suspeito de integrar organização criminosa acusada de desviar recursos públicos Foto: Reprodução/Redes Sociais Orlando Santos Ribeiro, secretário de Governo de Itapetinga. É suspeito de receber propina em troca de ações que favoreciam empresas do grupo criminoso nos contratos fraudulentos. Orlando Ribeiro é suspeito de integrar organização criminosa acusada de desviar recursos públicos Foto: Reprodução/Redes Sociais Diego Queiroz Rodrigues foi vereador do município de Itapetinga na legislatura 2017-2020 e voltou a se eleger para o cargo neste ano. É suspeito de receber \"pagamentos espúrios\" feitos com frequência por Alex Parente. Diego Queiroz é suspeito de integrar organização criminosa acusada de desviar recursos públicos Foto: Reprodução/Redes Sociais Geraldo Guedes de Santana Filho, sócio da A G&M. É suspeito de atuar como funcionário de Alex Parente, \"executando funções de contabilidade, secretariado, além de tratativas diretas com agentes do setor público envolvidos nos contratos firmados com a Larclean\". Evandro Baldino do Nascimento, empresário do ramo de construção. É suspeito de colaborar com o sustento logístico e operacional da organização criminosa em fraudes licitatórias nos municípios de Oliveira dos Brejinhos e Campo Formoso. Fábio Netto, procurador da empresa Villetech. É suspeito de integrar a organização criminosa em Senador Canedo, cidade de Goiás. Dois suspeitos foram detidos em outros estados: Além deles, Itallo Moreira de Almeida e Ailton Figueiredo Souza Junior foram alvos de mandados de prisão, mas estão foragidos. O primeiro é servidor da Secretaria de Educação do Tocantins, suspeito de favorecer empresas nas licitações. Já Ailton teria atuação em Salvador. A PF afirma que ele possui \"amplo e irrestrito acesso aos mais diversos setores da Prefeitura Municipal de Lauro de Freitas\", a ponto de até \"dar ordem para pagamento\". PF cumpre mandados judiciais em cinco estados Foto: Divulgação/Receita Federal O desvio ocorria por meio de contratos superfaturados firmados com o Departamento Nacional de Obras Contra as Secas. Os crimes apurados incluem corrupção ativa e passiva, peculato, fraude em licitações e contratos e lavagem de dinheiro. Os investigadores da Receita Federal descobriram que uma organização criminosa estava utilizando um esquema estruturado para desviar recursos públicos. Esses recursos, provenientes de emendas parlamentares e convênios, eram direcionados para empresas e indivíduos ligados a administrações municipais. As investigações constataram a prática de superfaturamento em obras e desvios de recursos com o apoio de interlocutores que facilitavam a liberação de verbas destinadas a projetos previamente selecionados pela organização criminosa. Veja abaixo como o grupo atuava: A Receita Federal informou ainda que as investigações apontaram também que a lavagem de dinheiro era realizada de forma \"altamente sofisticada\", incluindo o uso de: Relatórios elaborados pela Receita Federal, em cumprimento à ordem judicial, apontaram inconsistências fiscais, movimentações financeiras incompatíveis, omissão de receitas, utilização de interpostas pessoas e indícios de variação patrimonial a descoberto. Os crimes apurados incluem corrupção ativa e passiva, com penas de 2 a 12 anos de reclusão, peculato, fraude em licitações e contratos e lavagem de dinheiro. As penas somadas podem ultrapassar 50 anos de reclusão, além das multas previstas na legislação. Em nota enviada à TV Bahia, a defesa de Alex Rezende Parente, Fábio Rezende Parente e Lucas Maciel Lobão Vieira disse que ainda não obteve acesso aos autos do processo, mas ressaltou que o trio desaja esclarecer \"todos os fatos no curso da investigação e eventual processo\". \"A defesa, contudo, pretende se manifestar sobre o mérito da acusação perante as autoridades competentes, no tempo e local adequados\", diz a nota assinada pelo advogado Sebástian Borges de Albuquerque Mello. A defesa da servidora Kaliane Lomanto negou que ela tenha integrado a organização criminosa. O advogado Walmiral Marinho informou que irá esclarecer os fatos quando tiver acesso aos autos do processos. O g1 e a TV Bahia tentam localizar as defesas dos demais suspeitos. As equipes também procuraram as prefeituras e empresas mencionadas na decisão. A Prefeitura de Campo Formoso divulgou um comunicado para informar que não irá se manifestar, pois não teria sido citada nos autos do processo. Apesar disso, a gestão municipal ressalta que está à disposição para eventuais esclarecimentos. A Prefeitura de Lauro de Freitas informou que foi surpreendida com a a operação e aguarda a conclusão das investigações. A gestão também está a disposição dos órgãos competentes para os esclarecimentos necessários. Já a Prefeitura de Jequié disse que não foi formalmente notificada sobre a decisão, mas exonerou a servidora Kaliane Lomanto Bastos para que ela tenha plena oportunidade de apresentar sua defesa. A gestão disse que instaurou uma sindicância para apurar responsabilidades e possíveis danos ao erário. Do mesmo modo, a Prefeitura de Salvador exonerou o diretor-geral da Secretaria Municipal de Educação, também suspeito de participar do esquema criminoso. A demissão foi publicada no Diário Oficial desta terça-feira. Veja mais notícias do estado no g1 Bahia. Dinheiro apreendido com um dos alvos da operação Foto: Divulgação/PF Joias apreendidas com um dos alvos da operação Foto: Divulgação/PF', url=Url('https://g1.globo.com/ba/bahia/noticia/2024/12/10/suspeitos-de-desvios-milionarios-em-contratos-publicos.ghtml')),\n",
       "  CleanedArticle(id=UUID('0033003f-ac88-4da3-8ecf-ff3a67ad8de0'), title='Tragédia em Camboriú: motivo da queda de jovem de heliponto traz lembrete doloroso', subtitle='Caso levanta reflexões sobre segurança e o uso consciente da tecnologia', author='Ana Carolina CuryOpens in new window', publication_date=datetime.datetime(2024, 12, 12, 14, 40, 35, 646000), content='O que poderia ter sido um momento entre irmãos se transformou em uma enorme tragédia. Nesta semana, a jovem Carol Oliveira, de 22 anos, morreu ao cair do heliponto do Edifício Império do Sol, localizado na Avenida Atlântica, em frente à Praia Central, em Balneário Camboriú, Santa Catarina. O acidente aconteceu enquanto ela gravava um vídeo acompanhada por seu irmão. Distraída, tropeçou e caiu de uma altura de 25 andares, cerca de 70 metros. Em nota, a Guarda Municipal (GM) da cidade confirmou o motivo da queda: Trata-se de um acidente, pois há um vídeo em que o jovem [irmão] que estava com a vítima captura o momento em que esta tropeça e cai. Carol fazia parte de um projeto de futsal e atuava como monitora de atletas na cidade de Itapema, também em Santa Catarina. Amigos e familiares lamentaram sua partida e a descreveram como uma jovem amável e apaixonada pelo esporte. A área onde Carol e o irmão estavam era destinada exclusivamente a emergências e contava com sinalizações indicando acesso proibido. Essas duas palavras vieram à minha mente quando assisti ao vídeo da fatalidade. Estudos recentes indicam que o Brasil ocupa a quinta posição no ranking mundial de mortes relacionadas a selfies. Além disso, quantas vezes, assim como Carol, nos distraímos com o celular e deixamos de perceber o mundo ao nosso redor? Já presenciei casos de pais que não notaram o filho cair porque estavam assistindo a shorts, de famílias que perderam momentos de conversa durante as refeições para ver stories, e até de casais que se distanciaram emocionalmente porque, ao se deitar, cada um ficava imerso em futilidades no smartphone. A tragédia de Carol grita sobre como o uso inadequado da tecnologia pode trazer danos irreversíveis, desde a perda de momentos importantes com pessoas que amamos até acidentes fatais. O desfecho da história dessa jovem que tinha tantas coisas bonitas para viver é, sim, um lembrete doloroso de que a vida é preciosa demais para ser trocada por uma foto ou por um vídeo. Diante desse triste cenário, só nos resta refletir: O que temos arriscado pelo excesso dessa tecnologia? Afinal, podemos perder muitas coisas por conta do uso inadequado do celular. E, no fascínio das redes sociais, por exemplo, ignoramos o que realmente pode trazer felicidade. Que possamos sempre nos lembrar de valorizar o real, de não correr riscos pelo virtual e de estar presente no aqui e no agora.', url=Url('https://noticias.r7.com/prisma/refletindo-sobre-a-noticia-por-ana-carolina-cury/tragedia-em-camboriu-motivo-da-queda-de-jovem-de-heliponto-traz-lembrete-doloroso-10122024/')),\n",
       "  CleanedArticle(id=UUID('0041349c-6d46-4d22-963f-b70d0a1c0c5b'), title='SP segue com menor taxa de homicídios do país, mas piora nos rankings nacionais de letalidade policial, estupro, feminicídio e latrocínio', subtitle='Índice de homicídios no estado é o mais baixo entre as 27 unidades federativas desde o começo da série histórica do Ministério da Justiça, em 2015. Levantamento classifica os estados de acordo com a taxa por 100 mil habitantes.', author='Paula Paiva Paulo', publication_date=datetime.datetime(2024, 12, 7, 17, 19, 30, 652000), content='São Paulo se mantém como o estado com a menor taxa de homicídios do país, mas piorou a sua colocação em 2024 nos rankings nacionais de letalidade policial, estupro, feminicídio, latrocínio e lesão corporal seguida de morte, segundo dados do Sistema Nacional de Informações de Segurança Pública (Sinesp), do Ministério da Justiça. Entenda: O ranking classifica os estados de acordo com a taxa por 100 mil habitantes. A classificação vai de 1 a 27, o que corresponde ao número de unidades federativas do país. Estar em 1º lugar indica o pior cenário (maior índice de determinado crime), enquanto estar em 27º lugar representa o melhor cenário. Quando se analisam os números de homicídio doloso (com intenção de matar), São Paulo segue com os melhores índices do país, o que o coloca na 27ª colocação desde o começo da série histórica do Ministério da Justiça, em 2015. De janeiro a outubro de 2024, foram 1.959 vítimas de homicídio doloso no estado, uma taxa de 5,11 casos por 100 mil habitantes. Em Pernambuco, estado com a pior colocação no ranking nacional desse crime, a taxa de homicídios é de 34,39/100 mil. De janeiro a outubro de 2024, São Paulo ficou em 15º lugar em mortes por intervenção policial, com um total de 676 mortes. No mesmo período do ano passado, o estado estava em 21º lugar, com 407 mortes registradas. Essas mortes colocaram o estado de volta no patamar de 2020, antes da implantação da câmera corporal nos uniformes policiais. A introdução das câmeras fez os índices despencarem, especialmente após 2022, quando o uso do equipamento ganhou escala. Mortes por intervenção policial de janeiro a outubro de 2024 São Paulo também piorou sua colocação nacional em outros crimes. De janeiro a outubro de 2024, foram 148 latrocínios (roubo seguido de morte), o que deixa o estado como 16º pior do país. No mesmo período de 2023, foram 135 mortes, quando o estado paulista ficou na 20ª posição. Os índices de estupro, feminicídio e lesão corporal seguida de morte também pioraram e, consequentemente, a posição do estado no ranking. A pesquisadora também destaca que o cenário de aumento da letalidade policial sem a melhora nos índices gerais de violência é observado em outros estados, como a Bahia. Metodologia: o levantamento considera os dados do Sistema Nacional de Informações de Segurança Pública (Sinesp), que são fornecidos pelas 27 unidades federativas ao Ministério da Justiça. Segundo a pasta, os dados dos últimos três meses deste ano são preliminares e estão em processo de validação com os estados. Além disso, o Rio de Janeiro ainda não entregou os números de outubro de 2024 em sua totalidade. Em nota enviada ao g1, a Secretaria de Segurança Pública (SSP) de São Paulo afirmou que a taxa de mortes por intervenção policial no estado é de 1,76 por 100 mil habitantes, menor do que a média nacional, que é de 2,89 por 100 mil habitantes. A pasta também afirmou que as forças de segurança não compactuam com desvios de conduta e punem com rigor aqueles que infringem a lei ou violam as normas e procedimentos de suas corporações. (Veja a íntegra da nota no final do texto). O governador de São Paulo, Tarcísio de Freitas (Republicanos), e o secretário da Segurança Pública, Guilherme Derrite, durante entrevista coletiva em março de 2023. Foto: Celio Messias/Secom/GESP Após a série de casos de violência policial no estado de São Paulo nos últimos dias, o governador Tarcísio de Freitas (Republicanos) defendeu na quarta-feira (20) o trabalho do secretário da Segurança Pública, Guilherme Derrite (PL). Ao ser questionado pela imprensa sobre a possibilidade de demitir Derrite do cargo e se considerava que o secretário estava fazendo um bom trabalho, Tarcísio se limitou a responder: \"Olha os números que você vai ver que está [fazendo um bom trabalho]\". Diante da insistência dos jornalistas, repetiu: \"Olha as estatísticas\". Ele, no entanto, não informou quais seriam esses dados. Nesta quinta-feira (5), o governador de SP disse que mudou de ideia e passou a defender o uso de câmeras corporais nas fardas. Tarcísio admitiu que \"tinha uma visão equivocada\" quando criticou o equipamento e afirmou que está \"completamente convencido de que é um instrumento de proteção da sociedade e do policial\". PM joga homem de ponte após abordagem em SP Nesta semana, casos envolvendo abuso de autoridade e letalidade policial ganharam repercussão entre autoridades e entidades de direitos humanos. No domingo (1), um policial militar foi flagrado arremessando um jovem em um córrego durante abordagem no bairro Vila Clara. Na segunda (2), imagens de câmera de segurança que flagraram a execução de Gabriel Renan da Silva Soares, de 26 anos, também vieram a público. O caso ocorreu em 3 de novembro. Veja as imagens abaixo: Jovem negro de 26 anos é executado por policial militar de folga em mercado de SP Na quarta-feira, policiais militares agrediram uma mulher de 63 anos e deram um golpe de mata-leão em seu filho durante abordagem na garagem da família em Barueri, na Grande São Paulo, na noite. Vídeos gravados por testemunhas e obtidos pela TV Globo registraram a cena violenta. Família diz ter sido agredida por PMs em Barueri Foto: Reprodução A SSP reforça que todos os casos de morte em decorrência de intervenção policial são rigorosamente investigados pelas polícias Civil e Militar, com acompanhamento das corregedorias, Ministério Público e Poder Judiciário. As forças de segurança não compactuam com desvios de conduta e punem com rigor aqueles que infringem a Lei ou violam as normas e procedimentos de suas corporações. De acordo com os dados do Ministério da Justiça e Segurança Pública, a taxa de mortes por intervenção policial no estado de São Paulo é de 1,76 por 100 mil habitantes, menor do que a média nacional, que é de 2,89 por 100 mil habitantes. Desde o início do ano passado, mais de 280 policiais foram demitidos e expulsos, enquanto um total de 414 agentes foram presos. A Polícia Militar mantém um programa de formação continuada para todo efetivo. Os policiais são submetidos a capacitações teóricas e práticas para atualizar e aprimorar as atividades de policiamento e o relacionamento com a sociedade. Mais segurança em São Paulo No Estado, de janeiro a outubro de 2024, os homicídios dolosos apresentaram uma queda de 2,9%, com 62 casos a menos em comparação ao mesmo período de 2023. Os latrocínios caíram de 14 para 13 em outubro de 2024, em relação a outubro do ano anterior. Os furtos também registraram queda de 3,7%, enquanto os roubos diminuíram 14,9%. Esses resultados foram impulsionados pelo reforço no efetivo policial, investimentos em equipamentos e o uso de tecnologia e inteligência nas operações. Além disso, 11.820 armas de fogo foram retiradas das ruas, 2.492 a mais do que no ano passado, e 168.067 infratores foram presos ou apreendidos.', url=Url('https://g1.globo.com/sp/sao-paulo/noticia/2024/12/07/sp-segue-com-menor-taxa-de-homicidios-do-pais-mas-piora-nos-rankings-nacionais-de-letalidade-policial-estupro-feminicidio-e-latrocinio.ghtml')),\n",
       "  CleanedArticle(id=UUID('0067d9f5-832c-4475-91fc-a0e2520d9c6c'), title='Redação Globo Repórter', subtitle='Conheça a equipe completa', author=None, publication_date=datetime.datetime(2018, 8, 7, 21, 33, 22, 664000), content='Apresentadoras Sandra Annenberg e Glória Maria Editora-chefe Silvia Sayão Chefes de Redação Marcia Monteiro Meg Cunha Chefe de Produção Francesca Terranova Coordenadores de Produção Henrique Lucas Tereza Maia Assistentes de produção Paulo Keppler Produtores Ana Dorneles Ana Rita Mendonça Arlete Heringer Assimina Vlahou Beatriz David de Sanson Cris Angelini Jorge Ghiaroni Luiz Costa Jr. Roberta Ferraz Repórteres Especiais Glória Maria Renato Machado Edney Silvestre Isabela Assumpção Editores Angela Garambone Cláudia Guimarães Mariana Estill Sabino Marislei Dalmaz Paulo Sampaio Saulo de la Rue Editores de Imagem Adriana Nagle André Alaniz Dimitri Caldeira Gisele Machado Lilian Cavalheiro Roberto Cavalcanti Susy Altman Editor de internet Juliana Maselli Diretor de Ilustração e Arte Alexandre Arrabal Arte Walmor Junior Supervisor de Imagem José Carlos Azevedo Gerente de Operações Luiz Rabello Diretor de Jornalismo - RJ Vinicius Menezes Diretora de Jornalismo - SP Cristina Piasentini Diretor de Jornalismo - DF Luiz Fernando Ávila Diretores Executivos Ricardo Villela Diretora de jornalismo Silvia Faria Diretor responsável Ali Kamel', url=Url('https://g1.globo.com/globo-reporter/noticia/2018/08/07/redacao-globo-reporter.ghtml')),\n",
       "  CleanedArticle(id=UUID('0079227c-65a7-46b5-8314-4f209b8bff58'), title='App de notícias em tempo real e de graça: como baixar o aplicativo do g1', subtitle='Acompanhe as notícias em tempo real com a credibilidade e agilidade. O aplicativo do g1 é gratuito e está disponível para iOS e Android.', author=None, publication_date=datetime.datetime(2021, 10, 26, 15, 16, 10, 749000), content='No app do g1, você acompanha em tempo real as notícias do Brasil e do mundo. É tudo de graça. Também tem notícias sobre agro, ciência, trabalho e carreira, concursos públicos, economia, mercado financeiro, educação, Enem, empreendedorismo, inovação, meio ambiente, política, saúde, tecnologia e turismo. E os temas que estão bombando no mundo do cinema, música, séries, novelas e programas de tv. E tem uma área só com notícia boa, é o Olha que legal. E não perca o \"Fato ou Fake\", serviço de checagem do Grupo Globo. Veja dicas pra aproveitar o aplicativo do g1. Clique para baixar o app do g1 no seu celular: App do g1: como baixar o app e ver notícias da sua região App do g1: como baixar o app e ver as notícias da sua região App do g1: encontre todo o conteúdo dos telejornais da Globo App do g1: encontre todo o conteúdo dos telejornais da Globo Veja como encontrar todo o conteúdo do g1 no menu do aplicativo App g1: saiba como usar o menu de navegação App g1: saiba como salvar um artigo para ver depois App g1: saiba como salvar um artigo para ver depois Encontre todas as checagens do Fato ou Fake no app do g1 App g1: todas as checagens do Fato ou Fake', url=Url('https://g1.globo.com/economia/tecnologia/noticia/2021/10/26/app-de-noticias-em-tempo-real-e-de-graca-como-baixar-o-aplicativo-do-g1.ghtml')),\n",
       "  CleanedArticle(id=UUID('0081a0e3-e4ed-4d18-bd9a-25411441ca81'), title='Como sortear o amigo secreto online? Veja dicas de sites e aplicativos', subtitle='Plataformas oferecem métodos simples e rápidos para quem não quiser gastar papel (e tempo) organizando o sorteio.', author='Redação g1', publication_date=datetime.datetime(2024, 12, 10, 4, 30, 14, 241000), content=\"Sorteio do amigo secreto é facilitado por sites e apps que automatizam o processo Foto: Freepik/Arthur Hidden Com a chegada do período de festas, aparecem também as confraternizações anuais e tradições familiares. Uma das mais comuns é o amigo secreto, que pode ser organizado rapidamente pela internet. As ferramentas para sortear o amigo secreto variam, mas costumam oferecer métodos simples e rápidos para quem não quer gastar muito papel (ou tempo) no sorteio. O g1 selecionou três opções gratuitas que podem te ajudar a preparar seu amigo secreto. Confira a lista abaixo e veja como usá-las. VEJA TAMBÉM: Site do 'Sorteio Amigo Secreto' pode ser uma opção rápida e prática Foto: Reprodução O site sorteioamigosecreto.com oferece um passo a passo bem intuitivo. Depois de criar sua conta, você só precisa dar um nome para o sorteio e adicionar os e-mails de cada participante. Quando os nomes forem sorteados, os membros do amigo secreto recebem os resultados diretamente na caixa de entrada. Além disso, o site permite criar restrições. Por exemplo, é possível evitar que casais ou irmãos se presenteiem, o que pode tornar a brincadeira mais divertida e desafiadora. Site do 'SorteioGo' é uma das poucas opções que não pedem cadastro do usuário Foto: Reprodução 'SorteioGo' é outro site que pode facilitar o seu amigo secreto Foto: Reprodução O site sorteiogo.com não exige cadastro. Basta acessá-lo, inserir nome e e-mail de cada participante e sortear. O resultado chega diretamente na caixa de entrada de cada um. O lado negativo é que, pela sua simplicidade, ele não permite organizar outras etapas do amigo secreto. Então, é preciso definir por fora os limites de valor para os presentes e detalhes como data e hora da confraternização. App 'Papelzinho' está disponível para iOS e Android Foto: Reprodução O único aplicativo da lista está disponível para os sistemas iOS e Android. Assim como as outras opções, o processo aqui é simples e eficaz: basta inserir nomes e e-mails de quem vai participar e esperar o resultado chegar direto na caixa de entrada. Não é necessário que todos os participantes tenham o app, apenas uma pessoa precisa baixá-lo e seguir o passo a passo do sorteio. VEJA TAMBÉM: Quais foram os youtubers que mais cresceram no Brasil em 2024?\", url=Url('https://g1.globo.com/tecnologia/noticia/2024/12/10/como-sortear-o-amigo-secreto-online-veja-dicas-de-sites-e-aplicativos.ghtml')),\n",
       "  CleanedArticle(id=UUID('008abed6-41b3-4bdd-bbc3-12a73b4e2c0f'), title='Mesmo após cirurgia, Lula não vai se afastar da presidência', subtitle='Geraldo Alckmin cumprirá agenda de Lula, mas não assumirá o cargo durante internação', author='Redação BandNews', publication_date=datetime.datetime(2024, 12, 10, 0, 0), content='Segundo a assessoria da presidência, o presidente Lula não vai se afastar do cargo enquanto se recupera da cirurgia na cabeça, feita na manhã desta terça-feira (10), no Hospital Sírio Libanês, em São Paulo. Lula deve passar os próximos dois dias na UTI para monitoramento. A expectativa é de que ele receba alta na próxima semana. Até lá, Geraldo Alckmin cumpre a agenda presidencial, mas ainda como vice. Mais cedo, o ministro Paulo Pimenta, da Secretaria de Comunicação Social (SECOM), afirmou que o quadro do presidente é totalmente estável, e disse que o governo não vê necessidade de um afastamento oficial. Em 19 de outubro, o presidente Lula caiu no banheiro enquanto cortava as unhas e bateu a cabeça. Ontem, sentiu dores de cabeça e teve uma hemorragia detectada, por isso, passou por uma cirurgia de emergência. Segundo boletim médico, o presidente está acordado, seu quadro é estável. Ele conversa normalmente e já se alimentou. A expectativa é de que saia da UTI nas próximas 48h.', url=Url('https://bandnewstv.uol.com.br/2024/12/10/mesmo-apos-cirurgia-lula-nao-vai-se-afastar-da-presidencia/')),\n",
       "  CleanedArticle(id=UUID('00a8084e-ce53-4cf4-b804-8d97914f481d'), title='Rússia captura novos vilarejos no leste da Ucrânia após ataque com drones', subtitle='Inteligência militar ucraniana disse que suas tropas mataram ou feriram pelo menos 30 soldados norte-coreanos', author='Redação BandNews', publication_date=datetime.datetime(2024, 12, 16, 0, 0), content='A Rússia diz ter capturado vilarejos no leste da Ucrânia. As tropas entraram na vila de Shevchenko, na região de Donetsk. As informações são da agência de notícias estatal TASS. Nesta madrugada, o exército russo lançou 49 drones para atacar a Ucrânia. 27 foram abatidos. A inteligência militar ucraniana disse, também hoje, que suas tropas mataram ou feriram pelo menos 30 soldados norte-coreanos que haviam sido enviados pela Rússia à região de Kursk, onde a Ucrânia tomou parte do território.', url=Url('https://bandnewstv.uol.com.br/2024/12/16/russia-captura-novos-vilarejos-no-leste-da-ucrania-apos-ataque-com-drones/')),\n",
       "  CleanedArticle(id=UUID('00b140fd-57a0-45de-a8c2-7cd32be48637'), title='Aos 74 anos, ave mais longeva do mundo volta a pôr um ovo', subtitle='Especialistas em vida silvestre dizem que albatroz idosa repetiu o processo durante décadas com o mesmo companheiro e pôs mais de 50 ovos. Espécie é conhecida por ser monogâmica.', author=None, publication_date=datetime.datetime(2024, 12, 7, 0, 29, 27, 681000), content='Wisdom está ao lado de seu novo parceiro enquanto admiram seu ovo recém posto no Refúgio Nacional de Vida Selvagem de Midway Atoll, em 27 de novembro de 2024 Foto: Dan Rapp/US Fishing and Wildlife Service /AFP Wisdom, uma albatroz-de-laysan, é uma entre os milhões destas enormes aves marinhas que todos os anos voltam para nidificar no atol Midway, perto do Havaí. Aos 74 anos, a ave idosa está prestes a ser mãe um recorde. Especialistas em vida silvestre dizem que a ave idosa repetiu o processo durante décadas com o mesmo companheiro e pôs mais de 50 ovos. A espécie é conhecida por ser monogâmica. Mas há anos seu companheiro não é avistado, e por isso Wisdom se permitiu paquerar outros machos. Na visita deste ano, Wisdom pôs um ovo que seu novo companheiro a está ajudando a chocar. Fotos e vídeos do Serviço de Pesca e Vida Silvestre dos Estados Unidos mostram os futuros pais interagindo perto do ovo antes de o macho se sentar sobre ele. A história de Wisdom remonta a 1956, quando ela pôs seu primeiro ovo e foi identificada e etiquetada. Na ocasião, ela tinha cinco anos, idade com que os albatrozes-de-laysan atingem a maturidade sexual. Estes cálculos indicam que no fim do mês Wisdom terá pelo menos 74 anos, e poderá viver muitos mais, o que fará dela a ave silvestre mais longeva de que se tem registro no mundo. A envergadura dos albatrozes-de-laysan pode chegar a 2,03 metro. Estas aves são capazes de viajar mais de 1.500 quilômetros para buscar alimento. A expectativa de vida média das aves varia segundo a espécie. Os pássaros pequenos podem viver apenas dois ou três anos, enquanto as aves marinhas - como os albatrozes e os pinguins - chegam a viver 40 ou 50 anos. A família dos papagaios é a única entre as aves capaz de viver mais que os seres humanos. Tem-se conhecimento de uma cacatua que viveu mais de cem anos, por exemplo. Há mais de uma dúzia de espécies de albatroz no hemisfério sul e no Pacífico norte.', url=Url('https://g1.globo.com/mundo/noticia/2024/12/06/aos-74-anos-ave-mais-longeva-do-mundo-volta-a-por-um-ovo.ghtml'))],\n",
       " UUID('00b38f43-fa05-47e9-871a-361c1cbbe27d'))"
      ]
     },
     "execution_count": 84,
     "metadata": {},
     "output_type": "execute_result"
    }
   ],
   "source": [
    "CleanedArticle.bulk_find(**{})"
   ]
  }
 ],
 "metadata": {
  "kernelspec": {
   "display_name": "news_summarizer",
   "language": "python",
   "name": "python3"
  },
  "language_info": {
   "codemirror_mode": {
    "name": "ipython",
    "version": 3
   },
   "file_extension": ".py",
   "mimetype": "text/x-python",
   "name": "python",
   "nbconvert_exporter": "python",
   "pygments_lexer": "ipython3",
   "version": "3.11.8"
  }
 },
 "nbformat": 4,
 "nbformat_minor": 2
}
